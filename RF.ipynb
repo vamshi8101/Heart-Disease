{
 "cells": [
  {
   "cell_type": "markdown",
   "metadata": {},
   "source": [
    "# Meaning of column headings\n",
    "1. <font color='red'><strong>Age</strong></font> is the age of candidate.\n",
    "1. <font color='red'><strong>Sex</strong></font> has numeric values. 1 denotes male and 0 denotes female.\n",
    "1. <font color='red'><strong>Chest Pain</strong></font> pain has values between 0-3. The types of angina that are described in the research paper. The higher the number, the lesser are the odds of heart attack.\n",
    "1. <font color='red'><strong>Resting blood pressure</strong></font> is normal pressure with no exercise.\n",
    "1. <font color='red'><strong>Cholesterol</strong></font> means the blockage for blood supply in the blood vessels.\n",
    "1. <font color='red'><strong>Fasting Blood Pressure</strong></font> is blood sugar taken after a long gap between a meal and the test. Typically, it's taken before any meal in the morning.\n",
    "1. <font color='red'><strong>Rest ECG</strong></font> results means ECG values taken while person is on rest which means no exercise and normal functioning of heart is happening.\n",
    "1. The <font color='red'><strong>Maximum Heart Rate</strong></font> achieved.\n",
    "1. <font color='red'><strong>Exercise induced angina</strong></font> is chest pain while exercising or doing any physical activity.\n",
    "1. <font color='red'><strong>ST Depression</strong></font> is the difference between value of ECG at rest and after exercise.\n",
    "1. <font color='red'><strong>ST Slope</strong></font> is the tangent to the depression value.\n",
    "1. The <font color='red'><strong>number of major blood vessels</strong></font> supplying blood to heart blocked.\n",
    "1. The <font color='red'><strong>Types of thalassemia</strong></font>. \n",
    "1. <font color='red'><strong>Heart attack prediction</strong></font> where 1 denotes Heart attack occured and 0 where it din't take occur."
   ]
  },
  {
   "cell_type": "code",
   "execution_count": 1,
   "metadata": {
    "_cell_guid": "b1076dfc-b9ad-4769-8c92-a6c4dae69d19",
    "_uuid": "8f2839f25d086af736a60e9eeb907d3b93b6e0e5"
   },
   "outputs": [],
   "source": [
    "#Loading The Libraries\n",
    "\n",
    "#For uploading and accessing the data\n",
    "import pandas as pd\n",
    "import numpy as np\n",
    "\n",
    "#For visualizations\n",
    "import matplotlib.pyplot as plt\n",
    "import seaborn as sns\n",
    "\n",
    "import warnings\n",
    "warnings.filterwarnings(\"ignore\")"
   ]
  },
  {
   "cell_type": "code",
   "execution_count": 4,
   "metadata": {
    "_cell_guid": "79c7e3d0-c299-4dcb-8224-4455121ee9b0",
    "_uuid": "d629ff2d2480ee46fbb7e2d37f6b5fab8052498a"
   },
   "outputs": [],
   "source": [
    "df = pd.read_csv('D:\\mp\\heart disease\\Heart-Disease-Diagnosis-master\\heart.csv')"
   ]
  },
  {
   "cell_type": "code",
   "execution_count": 4,
   "metadata": {},
   "outputs": [
    {
     "data": {
      "text/html": [
       "<div>\n",
       "<style scoped>\n",
       "    .dataframe tbody tr th:only-of-type {\n",
       "        vertical-align: middle;\n",
       "    }\n",
       "\n",
       "    .dataframe tbody tr th {\n",
       "        vertical-align: top;\n",
       "    }\n",
       "\n",
       "    .dataframe thead th {\n",
       "        text-align: right;\n",
       "    }\n",
       "</style>\n",
       "<table border=\"1\" class=\"dataframe\">\n",
       "  <thead>\n",
       "    <tr style=\"text-align: right;\">\n",
       "      <th></th>\n",
       "      <th>age</th>\n",
       "      <th>sex</th>\n",
       "      <th>cp</th>\n",
       "      <th>trestbps</th>\n",
       "      <th>chol</th>\n",
       "      <th>fbs</th>\n",
       "      <th>restecg</th>\n",
       "      <th>thalach</th>\n",
       "      <th>exang</th>\n",
       "      <th>oldpeak</th>\n",
       "      <th>slope</th>\n",
       "      <th>ca</th>\n",
       "      <th>thal</th>\n",
       "      <th>target</th>\n",
       "    </tr>\n",
       "  </thead>\n",
       "  <tbody>\n",
       "    <tr>\n",
       "      <th>0</th>\n",
       "      <td>63</td>\n",
       "      <td>1</td>\n",
       "      <td>3</td>\n",
       "      <td>145</td>\n",
       "      <td>233</td>\n",
       "      <td>1</td>\n",
       "      <td>0</td>\n",
       "      <td>150</td>\n",
       "      <td>0</td>\n",
       "      <td>2.3</td>\n",
       "      <td>0</td>\n",
       "      <td>0</td>\n",
       "      <td>1</td>\n",
       "      <td>1</td>\n",
       "    </tr>\n",
       "    <tr>\n",
       "      <th>1</th>\n",
       "      <td>37</td>\n",
       "      <td>1</td>\n",
       "      <td>2</td>\n",
       "      <td>130</td>\n",
       "      <td>250</td>\n",
       "      <td>0</td>\n",
       "      <td>1</td>\n",
       "      <td>187</td>\n",
       "      <td>0</td>\n",
       "      <td>3.5</td>\n",
       "      <td>0</td>\n",
       "      <td>0</td>\n",
       "      <td>2</td>\n",
       "      <td>1</td>\n",
       "    </tr>\n",
       "    <tr>\n",
       "      <th>2</th>\n",
       "      <td>41</td>\n",
       "      <td>0</td>\n",
       "      <td>1</td>\n",
       "      <td>130</td>\n",
       "      <td>204</td>\n",
       "      <td>0</td>\n",
       "      <td>0</td>\n",
       "      <td>172</td>\n",
       "      <td>0</td>\n",
       "      <td>1.4</td>\n",
       "      <td>2</td>\n",
       "      <td>0</td>\n",
       "      <td>2</td>\n",
       "      <td>1</td>\n",
       "    </tr>\n",
       "    <tr>\n",
       "      <th>3</th>\n",
       "      <td>56</td>\n",
       "      <td>1</td>\n",
       "      <td>1</td>\n",
       "      <td>120</td>\n",
       "      <td>236</td>\n",
       "      <td>0</td>\n",
       "      <td>1</td>\n",
       "      <td>178</td>\n",
       "      <td>0</td>\n",
       "      <td>0.8</td>\n",
       "      <td>2</td>\n",
       "      <td>0</td>\n",
       "      <td>2</td>\n",
       "      <td>1</td>\n",
       "    </tr>\n",
       "    <tr>\n",
       "      <th>4</th>\n",
       "      <td>57</td>\n",
       "      <td>0</td>\n",
       "      <td>0</td>\n",
       "      <td>120</td>\n",
       "      <td>354</td>\n",
       "      <td>0</td>\n",
       "      <td>1</td>\n",
       "      <td>163</td>\n",
       "      <td>1</td>\n",
       "      <td>0.6</td>\n",
       "      <td>2</td>\n",
       "      <td>0</td>\n",
       "      <td>2</td>\n",
       "      <td>1</td>\n",
       "    </tr>\n",
       "  </tbody>\n",
       "</table>\n",
       "</div>"
      ],
      "text/plain": [
       "   age  sex  cp  trestbps  chol  fbs  restecg  thalach  exang  oldpeak  slope  \\\n",
       "0   63    1   3       145   233    1        0      150      0      2.3      0   \n",
       "1   37    1   2       130   250    0        1      187      0      3.5      0   \n",
       "2   41    0   1       130   204    0        0      172      0      1.4      2   \n",
       "3   56    1   1       120   236    0        1      178      0      0.8      2   \n",
       "4   57    0   0       120   354    0        1      163      1      0.6      2   \n",
       "\n",
       "   ca  thal  target  \n",
       "0   0     1       1  \n",
       "1   0     2       1  \n",
       "2   0     2       1  \n",
       "3   0     2       1  \n",
       "4   0     2       1  "
      ]
     },
     "execution_count": 4,
     "metadata": {},
     "output_type": "execute_result"
    }
   ],
   "source": [
    "df.head()"
   ]
  },
  {
   "cell_type": "code",
   "execution_count": 4,
   "metadata": {},
   "outputs": [
    {
     "data": {
      "text/plain": [
       "(303, 14)"
      ]
     },
     "execution_count": 4,
     "metadata": {},
     "output_type": "execute_result"
    }
   ],
   "source": [
    "df.shape"
   ]
  },
  {
   "cell_type": "code",
   "execution_count": 5,
   "metadata": {},
   "outputs": [],
   "source": [
    "df.rename(columns ={'age':'Age','sex':'Sex','cp':'Chest_pain','trestbps':'Resting_blood_pressure','chol':'Cholesterol','fbs':'Fasting_blood_sugar',\n",
    "                    'restecg':'ECG_results','thalach':'Maximum_heart_rate','exang':'Exercise_induced_angina','oldpeak':'ST_depression','ca':'Major_vessels',\n",
    "                   'thal':'Thalassemia_types','target':'Heart_attack','slope':'ST_slope'}, inplace = True)"
   ]
  },
  {
   "cell_type": "markdown",
   "metadata": {},
   "source": [
    "Renaming the column headers for better understanding of visualizations."
   ]
  },
  {
   "cell_type": "code",
   "execution_count": 6,
   "metadata": {},
   "outputs": [
    {
     "data": {
      "text/html": [
       "<div>\n",
       "<style scoped>\n",
       "    .dataframe tbody tr th:only-of-type {\n",
       "        vertical-align: middle;\n",
       "    }\n",
       "\n",
       "    .dataframe tbody tr th {\n",
       "        vertical-align: top;\n",
       "    }\n",
       "\n",
       "    .dataframe thead th {\n",
       "        text-align: right;\n",
       "    }\n",
       "</style>\n",
       "<table border=\"1\" class=\"dataframe\">\n",
       "  <thead>\n",
       "    <tr style=\"text-align: right;\">\n",
       "      <th></th>\n",
       "      <th>Age</th>\n",
       "      <th>Sex</th>\n",
       "      <th>Chest_pain</th>\n",
       "      <th>Resting_blood_pressure</th>\n",
       "      <th>Cholesterol</th>\n",
       "      <th>Fasting_blood_sugar</th>\n",
       "      <th>ECG_results</th>\n",
       "      <th>Maximum_heart_rate</th>\n",
       "      <th>Exercise_induced_angina</th>\n",
       "      <th>ST_depression</th>\n",
       "      <th>ST_slope</th>\n",
       "      <th>Major_vessels</th>\n",
       "      <th>Thalassemia_types</th>\n",
       "      <th>Heart_attack</th>\n",
       "    </tr>\n",
       "  </thead>\n",
       "  <tbody>\n",
       "    <tr>\n",
       "      <th>0</th>\n",
       "      <td>63</td>\n",
       "      <td>1</td>\n",
       "      <td>3</td>\n",
       "      <td>145</td>\n",
       "      <td>233</td>\n",
       "      <td>1</td>\n",
       "      <td>0</td>\n",
       "      <td>150</td>\n",
       "      <td>0</td>\n",
       "      <td>2.3</td>\n",
       "      <td>0</td>\n",
       "      <td>0</td>\n",
       "      <td>1</td>\n",
       "      <td>1</td>\n",
       "    </tr>\n",
       "    <tr>\n",
       "      <th>1</th>\n",
       "      <td>37</td>\n",
       "      <td>1</td>\n",
       "      <td>2</td>\n",
       "      <td>130</td>\n",
       "      <td>250</td>\n",
       "      <td>0</td>\n",
       "      <td>1</td>\n",
       "      <td>187</td>\n",
       "      <td>0</td>\n",
       "      <td>3.5</td>\n",
       "      <td>0</td>\n",
       "      <td>0</td>\n",
       "      <td>2</td>\n",
       "      <td>1</td>\n",
       "    </tr>\n",
       "    <tr>\n",
       "      <th>2</th>\n",
       "      <td>41</td>\n",
       "      <td>0</td>\n",
       "      <td>1</td>\n",
       "      <td>130</td>\n",
       "      <td>204</td>\n",
       "      <td>0</td>\n",
       "      <td>0</td>\n",
       "      <td>172</td>\n",
       "      <td>0</td>\n",
       "      <td>1.4</td>\n",
       "      <td>2</td>\n",
       "      <td>0</td>\n",
       "      <td>2</td>\n",
       "      <td>1</td>\n",
       "    </tr>\n",
       "    <tr>\n",
       "      <th>3</th>\n",
       "      <td>56</td>\n",
       "      <td>1</td>\n",
       "      <td>1</td>\n",
       "      <td>120</td>\n",
       "      <td>236</td>\n",
       "      <td>0</td>\n",
       "      <td>1</td>\n",
       "      <td>178</td>\n",
       "      <td>0</td>\n",
       "      <td>0.8</td>\n",
       "      <td>2</td>\n",
       "      <td>0</td>\n",
       "      <td>2</td>\n",
       "      <td>1</td>\n",
       "    </tr>\n",
       "    <tr>\n",
       "      <th>4</th>\n",
       "      <td>57</td>\n",
       "      <td>0</td>\n",
       "      <td>0</td>\n",
       "      <td>120</td>\n",
       "      <td>354</td>\n",
       "      <td>0</td>\n",
       "      <td>1</td>\n",
       "      <td>163</td>\n",
       "      <td>1</td>\n",
       "      <td>0.6</td>\n",
       "      <td>2</td>\n",
       "      <td>0</td>\n",
       "      <td>2</td>\n",
       "      <td>1</td>\n",
       "    </tr>\n",
       "  </tbody>\n",
       "</table>\n",
       "</div>"
      ],
      "text/plain": [
       "   Age  Sex  Chest_pain  Resting_blood_pressure  Cholesterol  \\\n",
       "0   63    1           3                     145          233   \n",
       "1   37    1           2                     130          250   \n",
       "2   41    0           1                     130          204   \n",
       "3   56    1           1                     120          236   \n",
       "4   57    0           0                     120          354   \n",
       "\n",
       "   Fasting_blood_sugar  ECG_results  Maximum_heart_rate  \\\n",
       "0                    1            0                 150   \n",
       "1                    0            1                 187   \n",
       "2                    0            0                 172   \n",
       "3                    0            1                 178   \n",
       "4                    0            1                 163   \n",
       "\n",
       "   Exercise_induced_angina  ST_depression  ST_slope  Major_vessels  \\\n",
       "0                        0            2.3         0              0   \n",
       "1                        0            3.5         0              0   \n",
       "2                        0            1.4         2              0   \n",
       "3                        0            0.8         2              0   \n",
       "4                        1            0.6         2              0   \n",
       "\n",
       "   Thalassemia_types  Heart_attack  \n",
       "0                  1             1  \n",
       "1                  2             1  \n",
       "2                  2             1  \n",
       "3                  2             1  \n",
       "4                  2             1  "
      ]
     },
     "execution_count": 6,
     "metadata": {},
     "output_type": "execute_result"
    }
   ],
   "source": [
    "df2 = df.copy()\n",
    "df1 = df.copy()\n",
    "df.head()\n",
    "#1 = Male and 0 = Female in 'Sex' column."
   ]
  },
  {
   "cell_type": "code",
   "execution_count": 7,
   "metadata": {},
   "outputs": [
    {
     "data": {
      "text/plain": [
       "Age                        0\n",
       "Sex                        0\n",
       "Chest_pain                 0\n",
       "Resting_blood_pressure     0\n",
       "Cholesterol                0\n",
       "Fasting_blood_sugar        0\n",
       "ECG_results                0\n",
       "Maximum_heart_rate         0\n",
       "Exercise_induced_angina    0\n",
       "ST_depression              0\n",
       "ST_slope                   0\n",
       "Major_vessels              0\n",
       "Thalassemia_types          0\n",
       "Heart_attack               0\n",
       "dtype: int64"
      ]
     },
     "execution_count": 7,
     "metadata": {},
     "output_type": "execute_result"
    }
   ],
   "source": [
    "df.isnull().sum()"
   ]
  },
  {
   "cell_type": "markdown",
   "metadata": {},
   "source": [
    "No empty values in the dataset."
   ]
  },
  {
   "cell_type": "code",
   "execution_count": 8,
   "metadata": {},
   "outputs": [],
   "source": [
    "df1['Sex'].replace({1:'Male',0:'Female'},inplace = True)\n",
    "df1['Heart_attack'].replace({1:'Heart_attack - Yes',0:'Heart_attack - No'},inplace = True)"
   ]
  },
  {
   "cell_type": "markdown",
   "metadata": {},
   "source": [
    "Replacing the values for Sex and Heart_Attack colummns as these will make the understanding of visualizations better instead of numeric values."
   ]
  },
  {
   "cell_type": "markdown",
   "metadata": {},
   "source": [
    "# Analysis of data by GroupBy and Cmap"
   ]
  },
  {
   "cell_type": "code",
   "execution_count": 9,
   "metadata": {},
   "outputs": [
    {
     "data": {
      "text/html": [
       "<style  type=\"text/css\" >\n",
       "#T_eadb5_row0_col1,#T_eadb5_row16_col1{\n",
       "            background-color:  #7b72b4;\n",
       "            color:  #000000;\n",
       "        }#T_eadb5_row0_col2,#T_eadb5_row1_col2,#T_eadb5_row2_col2,#T_eadb5_row15_col1{\n",
       "            background-color:  #3f007d;\n",
       "            color:  #f1f1f1;\n",
       "        }#T_eadb5_row1_col1{\n",
       "            background-color:  #827fbb;\n",
       "            color:  #000000;\n",
       "        }#T_eadb5_row2_col1{\n",
       "            background-color:  #7465ad;\n",
       "            color:  #000000;\n",
       "        }#T_eadb5_row3_col1{\n",
       "            background-color:  #b0afd4;\n",
       "            color:  #000000;\n",
       "        }#T_eadb5_row3_col2{\n",
       "            background-color:  #53268f;\n",
       "            color:  #f1f1f1;\n",
       "        }#T_eadb5_row4_col1,#T_eadb5_row5_col2{\n",
       "            background-color:  #9e9ac8;\n",
       "            color:  #000000;\n",
       "        }#T_eadb5_row4_col2{\n",
       "            background-color:  #6950a3;\n",
       "            color:  #f1f1f1;\n",
       "        }#T_eadb5_row5_col1{\n",
       "            background-color:  #f0eef6;\n",
       "            color:  #000000;\n",
       "        }#T_eadb5_row6_col1{\n",
       "            background-color:  #babadb;\n",
       "            color:  #000000;\n",
       "        }#T_eadb5_row6_col2,#T_eadb5_row7_col2{\n",
       "            background-color:  #bcbddc;\n",
       "            color:  #000000;\n",
       "        }#T_eadb5_row7_col1{\n",
       "            background-color:  #8c88bf;\n",
       "            color:  #000000;\n",
       "        }#T_eadb5_row8_col1{\n",
       "            background-color:  #6d57a6;\n",
       "            color:  #f1f1f1;\n",
       "        }#T_eadb5_row8_col2,#T_eadb5_row9_col2,#T_eadb5_row10_col2{\n",
       "            background-color:  #dadaeb;\n",
       "            color:  #000000;\n",
       "        }#T_eadb5_row9_col1{\n",
       "            background-color:  #52238d;\n",
       "            color:  #f1f1f1;\n",
       "        }#T_eadb5_row10_col1{\n",
       "            background-color:  #603e9a;\n",
       "            color:  #f1f1f1;\n",
       "        }#T_eadb5_row11_col1{\n",
       "            background-color:  #f8f7fb;\n",
       "            color:  #000000;\n",
       "        }#T_eadb5_row11_col2,#T_eadb5_row12_col2,#T_eadb5_row13_col2,#T_eadb5_row14_col2,#T_eadb5_row15_col2,#T_eadb5_row16_col2,#T_eadb5_row17_col2{\n",
       "            background-color:  #efedf5;\n",
       "            color:  #000000;\n",
       "        }#T_eadb5_row12_col1{\n",
       "            background-color:  #d6d6e9;\n",
       "            color:  #000000;\n",
       "        }#T_eadb5_row13_col1{\n",
       "            background-color:  #674ba0;\n",
       "            color:  #f1f1f1;\n",
       "        }#T_eadb5_row14_col1{\n",
       "            background-color:  #f4f3f8;\n",
       "            color:  #000000;\n",
       "        }#T_eadb5_row17_col1,#T_eadb5_row18_col2,#T_eadb5_row19_col2{\n",
       "            background-color:  #fcfbfd;\n",
       "            color:  #000000;\n",
       "        }#T_eadb5_row18_col1{\n",
       "            background-color:  #593093;\n",
       "            color:  #f1f1f1;\n",
       "        }#T_eadb5_row19_col1{\n",
       "            background-color:  #a7a4ce;\n",
       "            color:  #000000;\n",
       "        }</style><table id=\"T_eadb5_\" ><thead>    <tr>        <th class=\"blank level0\" ></th>        <th class=\"col_heading level0 col0\" >Sex</th>        <th class=\"col_heading level0 col1\" >Age</th>        <th class=\"col_heading level0 col2\" >Heart_attack</th>    </tr></thead><tbody>\n",
       "                <tr>\n",
       "                        <th id=\"T_eadb5_level0_row0\" class=\"row_heading level0 row0\" >59</th>\n",
       "                        <td id=\"T_eadb5_row0_col0\" class=\"data row0 col0\" >Male</td>\n",
       "                        <td id=\"T_eadb5_row0_col1\" class=\"data row0 col1\" >58</td>\n",
       "                        <td id=\"T_eadb5_row0_col2\" class=\"data row0 col2\" >13</td>\n",
       "            </tr>\n",
       "            <tr>\n",
       "                        <th id=\"T_eadb5_level0_row1\" class=\"row_heading level0 row1\" >58</th>\n",
       "                        <td id=\"T_eadb5_row1_col0\" class=\"data row1 col0\" >Male</td>\n",
       "                        <td id=\"T_eadb5_row1_col1\" class=\"data row1 col1\" >57</td>\n",
       "                        <td id=\"T_eadb5_row1_col2\" class=\"data row1 col2\" >13</td>\n",
       "            </tr>\n",
       "            <tr>\n",
       "                        <th id=\"T_eadb5_level0_row2\" class=\"row_heading level0 row2\" >60</th>\n",
       "                        <td id=\"T_eadb5_row2_col0\" class=\"data row2 col0\" >Male</td>\n",
       "                        <td id=\"T_eadb5_row2_col1\" class=\"data row2 col1\" >59</td>\n",
       "                        <td id=\"T_eadb5_row2_col2\" class=\"data row2 col2\" >13</td>\n",
       "            </tr>\n",
       "            <tr>\n",
       "                        <th id=\"T_eadb5_level0_row3\" class=\"row_heading level0 row3\" >53</th>\n",
       "                        <td id=\"T_eadb5_row3_col0\" class=\"data row3 col0\" >Male</td>\n",
       "                        <td id=\"T_eadb5_row3_col1\" class=\"data row3 col1\" >52</td>\n",
       "                        <td id=\"T_eadb5_row3_col2\" class=\"data row3 col2\" >12</td>\n",
       "            </tr>\n",
       "            <tr>\n",
       "                        <th id=\"T_eadb5_level0_row4\" class=\"row_heading level0 row4\" >55</th>\n",
       "                        <td id=\"T_eadb5_row4_col0\" class=\"data row4 col0\" >Male</td>\n",
       "                        <td id=\"T_eadb5_row4_col1\" class=\"data row4 col1\" >54</td>\n",
       "                        <td id=\"T_eadb5_row4_col2\" class=\"data row4 col2\" >11</td>\n",
       "            </tr>\n",
       "            <tr>\n",
       "                        <th id=\"T_eadb5_level0_row5\" class=\"row_heading level0 row5\" >45</th>\n",
       "                        <td id=\"T_eadb5_row5_col0\" class=\"data row5 col0\" >Male</td>\n",
       "                        <td id=\"T_eadb5_row5_col1\" class=\"data row5 col1\" >44</td>\n",
       "                        <td id=\"T_eadb5_row5_col2\" class=\"data row5 col2\" >9</td>\n",
       "            </tr>\n",
       "            <tr>\n",
       "                        <th id=\"T_eadb5_level0_row6\" class=\"row_heading level0 row6\" >52</th>\n",
       "                        <td id=\"T_eadb5_row6_col0\" class=\"data row6 col0\" >Male</td>\n",
       "                        <td id=\"T_eadb5_row6_col1\" class=\"data row6 col1\" >51</td>\n",
       "                        <td id=\"T_eadb5_row6_col2\" class=\"data row6 col2\" >8</td>\n",
       "            </tr>\n",
       "            <tr>\n",
       "                        <th id=\"T_eadb5_level0_row7\" class=\"row_heading level0 row7\" >57</th>\n",
       "                        <td id=\"T_eadb5_row7_col0\" class=\"data row7 col0\" >Male</td>\n",
       "                        <td id=\"T_eadb5_row7_col1\" class=\"data row7 col1\" >56</td>\n",
       "                        <td id=\"T_eadb5_row7_col2\" class=\"data row7 col2\" >8</td>\n",
       "            </tr>\n",
       "            <tr>\n",
       "                        <th id=\"T_eadb5_level0_row8\" class=\"row_heading level0 row8\" >61</th>\n",
       "                        <td id=\"T_eadb5_row8_col0\" class=\"data row8 col0\" >Male</td>\n",
       "                        <td id=\"T_eadb5_row8_col1\" class=\"data row8 col1\" >60</td>\n",
       "                        <td id=\"T_eadb5_row8_col2\" class=\"data row8 col2\" >7</td>\n",
       "            </tr>\n",
       "            <tr>\n",
       "                        <th id=\"T_eadb5_level0_row9\" class=\"row_heading level0 row9\" >65</th>\n",
       "                        <td id=\"T_eadb5_row9_col0\" class=\"data row9 col0\" >Male</td>\n",
       "                        <td id=\"T_eadb5_row9_col1\" class=\"data row9 col1\" >64</td>\n",
       "                        <td id=\"T_eadb5_row9_col2\" class=\"data row9 col2\" >7</td>\n",
       "            </tr>\n",
       "            <tr>\n",
       "                        <th id=\"T_eadb5_level0_row10\" class=\"row_heading level0 row10\" >24</th>\n",
       "                        <td id=\"T_eadb5_row10_col0\" class=\"data row10 col0\" >Female</td>\n",
       "                        <td id=\"T_eadb5_row10_col1\" class=\"data row10 col1\" >62</td>\n",
       "                        <td id=\"T_eadb5_row10_col2\" class=\"data row10 col2\" >7</td>\n",
       "            </tr>\n",
       "            <tr>\n",
       "                        <th id=\"T_eadb5_level0_row11\" class=\"row_heading level0 row11\" >43</th>\n",
       "                        <td id=\"T_eadb5_row11_col0\" class=\"data row11 col0\" >Male</td>\n",
       "                        <td id=\"T_eadb5_row11_col1\" class=\"data row11 col1\" >42</td>\n",
       "                        <td id=\"T_eadb5_row11_col2\" class=\"data row11 col2\" >6</td>\n",
       "            </tr>\n",
       "            <tr>\n",
       "                        <th id=\"T_eadb5_level0_row12\" class=\"row_heading level0 row12\" >49</th>\n",
       "                        <td id=\"T_eadb5_row12_col0\" class=\"data row12 col0\" >Male</td>\n",
       "                        <td id=\"T_eadb5_row12_col1\" class=\"data row12 col1\" >48</td>\n",
       "                        <td id=\"T_eadb5_row12_col2\" class=\"data row12 col2\" >6</td>\n",
       "            </tr>\n",
       "            <tr>\n",
       "                        <th id=\"T_eadb5_level0_row13\" class=\"row_heading level0 row13\" >62</th>\n",
       "                        <td id=\"T_eadb5_row13_col0\" class=\"data row13 col0\" >Male</td>\n",
       "                        <td id=\"T_eadb5_row13_col1\" class=\"data row13 col1\" >61</td>\n",
       "                        <td id=\"T_eadb5_row13_col2\" class=\"data row13 col2\" >6</td>\n",
       "            </tr>\n",
       "            <tr>\n",
       "                        <th id=\"T_eadb5_level0_row14\" class=\"row_heading level0 row14\" >44</th>\n",
       "                        <td id=\"T_eadb5_row14_col0\" class=\"data row14 col0\" >Male</td>\n",
       "                        <td id=\"T_eadb5_row14_col1\" class=\"data row14 col1\" >43</td>\n",
       "                        <td id=\"T_eadb5_row14_col2\" class=\"data row14 col2\" >6</td>\n",
       "            </tr>\n",
       "            <tr>\n",
       "                        <th id=\"T_eadb5_level0_row15\" class=\"row_heading level0 row15\" >68</th>\n",
       "                        <td id=\"T_eadb5_row15_col0\" class=\"data row15 col0\" >Male</td>\n",
       "                        <td id=\"T_eadb5_row15_col1\" class=\"data row15 col1\" >67</td>\n",
       "                        <td id=\"T_eadb5_row15_col2\" class=\"data row15 col2\" >6</td>\n",
       "            </tr>\n",
       "            <tr>\n",
       "                        <th id=\"T_eadb5_level0_row16\" class=\"row_heading level0 row16\" >20</th>\n",
       "                        <td id=\"T_eadb5_row16_col0\" class=\"data row16 col0\" >Female</td>\n",
       "                        <td id=\"T_eadb5_row16_col1\" class=\"data row16 col1\" >58</td>\n",
       "                        <td id=\"T_eadb5_row16_col2\" class=\"data row16 col2\" >6</td>\n",
       "            </tr>\n",
       "            <tr>\n",
       "                        <th id=\"T_eadb5_level0_row17\" class=\"row_heading level0 row17\" >42</th>\n",
       "                        <td id=\"T_eadb5_row17_col0\" class=\"data row17 col0\" >Male</td>\n",
       "                        <td id=\"T_eadb5_row17_col1\" class=\"data row17 col1\" >41</td>\n",
       "                        <td id=\"T_eadb5_row17_col2\" class=\"data row17 col2\" >6</td>\n",
       "            </tr>\n",
       "            <tr>\n",
       "                        <th id=\"T_eadb5_level0_row18\" class=\"row_heading level0 row18\" >25</th>\n",
       "                        <td id=\"T_eadb5_row18_col0\" class=\"data row18 col0\" >Female</td>\n",
       "                        <td id=\"T_eadb5_row18_col1\" class=\"data row18 col1\" >63</td>\n",
       "                        <td id=\"T_eadb5_row18_col2\" class=\"data row18 col2\" >5</td>\n",
       "            </tr>\n",
       "            <tr>\n",
       "                        <th id=\"T_eadb5_level0_row19\" class=\"row_heading level0 row19\" >54</th>\n",
       "                        <td id=\"T_eadb5_row19_col0\" class=\"data row19 col0\" >Male</td>\n",
       "                        <td id=\"T_eadb5_row19_col1\" class=\"data row19 col1\" >53</td>\n",
       "                        <td id=\"T_eadb5_row19_col2\" class=\"data row19 col2\" >5</td>\n",
       "            </tr>\n",
       "    </tbody></table>"
      ],
      "text/plain": [
       "<pandas.io.formats.style.Styler at 0x2689a0614f0>"
      ]
     },
     "execution_count": 9,
     "metadata": {},
     "output_type": "execute_result"
    }
   ],
   "source": [
    "s= df1.groupby(['Sex','Age'])['Heart_attack'].count().reset_index().sort_values(by='Heart_attack',ascending=False)\n",
    "s.head(20).style.background_gradient(cmap='Purples')"
   ]
  },
  {
   "cell_type": "markdown",
   "metadata": {},
   "source": [
    "This shows the total number of heart attacks that have occured for a particular age in case of males and females. In the top 20 count of heart attack, males have witnessed more heart attacks for their ages."
   ]
  },
  {
   "cell_type": "code",
   "execution_count": 10,
   "metadata": {},
   "outputs": [
    {
     "data": {
      "text/html": [
       "<style  type=\"text/css\" >\n",
       "#T_2942c_row0_col1,#T_2942c_row2_col1,#T_2942c_row7_col2{\n",
       "            background-color:  #f7fbff;\n",
       "            color:  #000000;\n",
       "        }#T_2942c_row0_col2,#T_2942c_row5_col1,#T_2942c_row7_col1{\n",
       "            background-color:  #08306b;\n",
       "            color:  #f1f1f1;\n",
       "        }#T_2942c_row1_col1,#T_2942c_row3_col1{\n",
       "            background-color:  #3787c0;\n",
       "            color:  #000000;\n",
       "        }#T_2942c_row1_col2{\n",
       "            background-color:  #74b3d8;\n",
       "            color:  #000000;\n",
       "        }#T_2942c_row2_col2{\n",
       "            background-color:  #a6cee4;\n",
       "            color:  #000000;\n",
       "        }#T_2942c_row3_col2{\n",
       "            background-color:  #b3d3e8;\n",
       "            color:  #000000;\n",
       "        }#T_2942c_row4_col1,#T_2942c_row6_col1{\n",
       "            background-color:  #abd0e6;\n",
       "            color:  #000000;\n",
       "        }#T_2942c_row4_col2{\n",
       "            background-color:  #bdd7ec;\n",
       "            color:  #000000;\n",
       "        }#T_2942c_row5_col2{\n",
       "            background-color:  #d9e8f5;\n",
       "            color:  #000000;\n",
       "        }#T_2942c_row6_col2{\n",
       "            background-color:  #dce9f6;\n",
       "            color:  #000000;\n",
       "        }</style><table id=\"T_2942c_\" ><thead>    <tr>        <th class=\"blank level0\" ></th>        <th class=\"col_heading level0 col0\" >Sex</th>        <th class=\"col_heading level0 col1\" >Chest_pain</th>        <th class=\"col_heading level0 col2\" >Heart_attack</th>    </tr></thead><tbody>\n",
       "                <tr>\n",
       "                        <th id=\"T_2942c_level0_row0\" class=\"row_heading level0 row0\" >4</th>\n",
       "                        <td id=\"T_2942c_row0_col0\" class=\"data row0 col0\" >Male</td>\n",
       "                        <td id=\"T_2942c_row0_col1\" class=\"data row0 col1\" >0</td>\n",
       "                        <td id=\"T_2942c_row0_col2\" class=\"data row0 col2\" >104</td>\n",
       "            </tr>\n",
       "            <tr>\n",
       "                        <th id=\"T_2942c_level0_row1\" class=\"row_heading level0 row1\" >6</th>\n",
       "                        <td id=\"T_2942c_row1_col0\" class=\"data row1 col0\" >Male</td>\n",
       "                        <td id=\"T_2942c_row1_col1\" class=\"data row1 col1\" >2</td>\n",
       "                        <td id=\"T_2942c_row1_col2\" class=\"data row1 col2\" >52</td>\n",
       "            </tr>\n",
       "            <tr>\n",
       "                        <th id=\"T_2942c_level0_row2\" class=\"row_heading level0 row2\" >0</th>\n",
       "                        <td id=\"T_2942c_row2_col0\" class=\"data row2 col0\" >Female</td>\n",
       "                        <td id=\"T_2942c_row2_col1\" class=\"data row2 col1\" >0</td>\n",
       "                        <td id=\"T_2942c_row2_col2\" class=\"data row2 col2\" >39</td>\n",
       "            </tr>\n",
       "            <tr>\n",
       "                        <th id=\"T_2942c_level0_row3\" class=\"row_heading level0 row3\" >2</th>\n",
       "                        <td id=\"T_2942c_row3_col0\" class=\"data row3 col0\" >Female</td>\n",
       "                        <td id=\"T_2942c_row3_col1\" class=\"data row3 col1\" >2</td>\n",
       "                        <td id=\"T_2942c_row3_col2\" class=\"data row3 col2\" >35</td>\n",
       "            </tr>\n",
       "            <tr>\n",
       "                        <th id=\"T_2942c_level0_row4\" class=\"row_heading level0 row4\" >5</th>\n",
       "                        <td id=\"T_2942c_row4_col0\" class=\"data row4 col0\" >Male</td>\n",
       "                        <td id=\"T_2942c_row4_col1\" class=\"data row4 col1\" >1</td>\n",
       "                        <td id=\"T_2942c_row4_col2\" class=\"data row4 col2\" >32</td>\n",
       "            </tr>\n",
       "            <tr>\n",
       "                        <th id=\"T_2942c_level0_row5\" class=\"row_heading level0 row5\" >7</th>\n",
       "                        <td id=\"T_2942c_row5_col0\" class=\"data row5 col0\" >Male</td>\n",
       "                        <td id=\"T_2942c_row5_col1\" class=\"data row5 col1\" >3</td>\n",
       "                        <td id=\"T_2942c_row5_col2\" class=\"data row5 col2\" >19</td>\n",
       "            </tr>\n",
       "            <tr>\n",
       "                        <th id=\"T_2942c_level0_row6\" class=\"row_heading level0 row6\" >1</th>\n",
       "                        <td id=\"T_2942c_row6_col0\" class=\"data row6 col0\" >Female</td>\n",
       "                        <td id=\"T_2942c_row6_col1\" class=\"data row6 col1\" >1</td>\n",
       "                        <td id=\"T_2942c_row6_col2\" class=\"data row6 col2\" >18</td>\n",
       "            </tr>\n",
       "            <tr>\n",
       "                        <th id=\"T_2942c_level0_row7\" class=\"row_heading level0 row7\" >3</th>\n",
       "                        <td id=\"T_2942c_row7_col0\" class=\"data row7 col0\" >Female</td>\n",
       "                        <td id=\"T_2942c_row7_col1\" class=\"data row7 col1\" >3</td>\n",
       "                        <td id=\"T_2942c_row7_col2\" class=\"data row7 col2\" >4</td>\n",
       "            </tr>\n",
       "    </tbody></table>"
      ],
      "text/plain": [
       "<pandas.io.formats.style.Styler at 0x268ab16f220>"
      ]
     },
     "execution_count": 10,
     "metadata": {},
     "output_type": "execute_result"
    }
   ],
   "source": [
    "s= df1.groupby(['Sex','Chest_pain'])['Heart_attack'].count().reset_index().sort_values(by='Heart_attack',ascending=False)\n",
    "s.head(10).style.background_gradient(cmap='Blues')"
   ]
  },
  {
   "cell_type": "markdown",
   "metadata": {},
   "source": [
    "The Males having chest pain type 0 suffered the most heart attacks and type 2 the second highest. This trend is same for females."
   ]
  },
  {
   "cell_type": "code",
   "execution_count": 11,
   "metadata": {},
   "outputs": [
    {
     "data": {
      "text/html": [
       "<style  type=\"text/css\" >\n",
       "#T_3400d_row0_col1,#T_3400d_row8_col1{\n",
       "            background-color:  #c7e9c0;\n",
       "            color:  #000000;\n",
       "        }#T_3400d_row0_col2,#T_3400d_row7_col1{\n",
       "            background-color:  #00441b;\n",
       "            color:  #f1f1f1;\n",
       "        }#T_3400d_row1_col1,#T_3400d_row4_col1{\n",
       "            background-color:  #73c476;\n",
       "            color:  #000000;\n",
       "        }#T_3400d_row1_col2{\n",
       "            background-color:  #0b7734;\n",
       "            color:  #f1f1f1;\n",
       "        }#T_3400d_row2_col1,#T_3400d_row6_col1{\n",
       "            background-color:  #228a44;\n",
       "            color:  #000000;\n",
       "        }#T_3400d_row2_col2{\n",
       "            background-color:  #2a924a;\n",
       "            color:  #000000;\n",
       "        }#T_3400d_row3_col1,#T_3400d_row9_col2{\n",
       "            background-color:  #f7fcf5;\n",
       "            color:  #000000;\n",
       "        }#T_3400d_row3_col2{\n",
       "            background-color:  #9cd797;\n",
       "            color:  #000000;\n",
       "        }#T_3400d_row4_col2{\n",
       "            background-color:  #dbf1d6;\n",
       "            color:  #000000;\n",
       "        }#T_3400d_row5_col1{\n",
       "            background-color:  #a0d99b;\n",
       "            color:  #000000;\n",
       "        }#T_3400d_row5_col2{\n",
       "            background-color:  #e7f6e3;\n",
       "            color:  #000000;\n",
       "        }#T_3400d_row6_col2,#T_3400d_row7_col2,#T_3400d_row8_col2{\n",
       "            background-color:  #eff9ec;\n",
       "            color:  #000000;\n",
       "        }#T_3400d_row9_col1{\n",
       "            background-color:  #86cc85;\n",
       "            color:  #000000;\n",
       "        }</style><table id=\"T_3400d_\" ><thead>    <tr>        <th class=\"blank level0\" ></th>        <th class=\"col_heading level0 col0\" >Sex</th>        <th class=\"col_heading level0 col1\" >Resting_blood_pressure</th>        <th class=\"col_heading level0 col2\" >Heart_attack</th>    </tr></thead><tbody>\n",
       "                <tr>\n",
       "                        <th id=\"T_3400d_level0_row0\" class=\"row_heading level0 row0\" >46</th>\n",
       "                        <td id=\"T_3400d_row0_col0\" class=\"data row0 col0\" >Male</td>\n",
       "                        <td id=\"T_3400d_row0_col1\" class=\"data row0 col1\" >120</td>\n",
       "                        <td id=\"T_3400d_row0_col2\" class=\"data row0 col2\" >27</td>\n",
       "            </tr>\n",
       "            <tr>\n",
       "                        <th id=\"T_3400d_level0_row1\" class=\"row_heading level0 row1\" >54</th>\n",
       "                        <td id=\"T_3400d_row1_col0\" class=\"data row1 col0\" >Male</td>\n",
       "                        <td id=\"T_3400d_row1_col1\" class=\"data row1 col1\" >130</td>\n",
       "                        <td id=\"T_3400d_row1_col2\" class=\"data row1 col2\" >24</td>\n",
       "            </tr>\n",
       "            <tr>\n",
       "                        <th id=\"T_3400d_level0_row2\" class=\"row_heading level0 row2\" >60</th>\n",
       "                        <td id=\"T_3400d_row2_col0\" class=\"data row2 col0\" >Male</td>\n",
       "                        <td id=\"T_3400d_row2_col1\" class=\"data row2 col1\" >140</td>\n",
       "                        <td id=\"T_3400d_row2_col2\" class=\"data row2 col2\" >22</td>\n",
       "            </tr>\n",
       "            <tr>\n",
       "                        <th id=\"T_3400d_level0_row3\" class=\"row_heading level0 row3\" >40</th>\n",
       "                        <td id=\"T_3400d_row3_col0\" class=\"data row3 col0\" >Male</td>\n",
       "                        <td id=\"T_3400d_row3_col1\" class=\"data row3 col1\" >110</td>\n",
       "                        <td id=\"T_3400d_row3_col2\" class=\"data row3 col2\" >16</td>\n",
       "            </tr>\n",
       "            <tr>\n",
       "                        <th id=\"T_3400d_level0_row4\" class=\"row_heading level0 row4\" >15</th>\n",
       "                        <td id=\"T_3400d_row4_col0\" class=\"data row4 col0\" >Female</td>\n",
       "                        <td id=\"T_3400d_row4_col1\" class=\"data row4 col1\" >130</td>\n",
       "                        <td id=\"T_3400d_row4_col2\" class=\"data row4 col2\" >12</td>\n",
       "            </tr>\n",
       "            <tr>\n",
       "                        <th id=\"T_3400d_level0_row5\" class=\"row_heading level0 row5\" >50</th>\n",
       "                        <td id=\"T_3400d_row5_col0\" class=\"data row5 col0\" >Male</td>\n",
       "                        <td id=\"T_3400d_row5_col1\" class=\"data row5 col1\" >125</td>\n",
       "                        <td id=\"T_3400d_row5_col2\" class=\"data row5 col2\" >11</td>\n",
       "            </tr>\n",
       "            <tr>\n",
       "                        <th id=\"T_3400d_level0_row6\" class=\"row_heading level0 row6\" >21</th>\n",
       "                        <td id=\"T_3400d_row6_col0\" class=\"data row6 col0\" >Female</td>\n",
       "                        <td id=\"T_3400d_row6_col1\" class=\"data row6 col1\" >140</td>\n",
       "                        <td id=\"T_3400d_row6_col2\" class=\"data row6 col2\" >10</td>\n",
       "            </tr>\n",
       "            <tr>\n",
       "                        <th id=\"T_3400d_level0_row7\" class=\"row_heading level0 row7\" >66</th>\n",
       "                        <td id=\"T_3400d_row7_col0\" class=\"data row7 col0\" >Male</td>\n",
       "                        <td id=\"T_3400d_row7_col1\" class=\"data row7 col1\" >150</td>\n",
       "                        <td id=\"T_3400d_row7_col2\" class=\"data row7 col2\" >10</td>\n",
       "            </tr>\n",
       "            <tr>\n",
       "                        <th id=\"T_3400d_level0_row8\" class=\"row_heading level0 row8\" >10</th>\n",
       "                        <td id=\"T_3400d_row8_col0\" class=\"data row8 col0\" >Female</td>\n",
       "                        <td id=\"T_3400d_row8_col1\" class=\"data row8 col1\" >120</td>\n",
       "                        <td id=\"T_3400d_row8_col2\" class=\"data row8 col2\" >10</td>\n",
       "            </tr>\n",
       "            <tr>\n",
       "                        <th id=\"T_3400d_level0_row9\" class=\"row_heading level0 row9\" >52</th>\n",
       "                        <td id=\"T_3400d_row9_col0\" class=\"data row9 col0\" >Male</td>\n",
       "                        <td id=\"T_3400d_row9_col1\" class=\"data row9 col1\" >128</td>\n",
       "                        <td id=\"T_3400d_row9_col2\" class=\"data row9 col2\" >9</td>\n",
       "            </tr>\n",
       "    </tbody></table>"
      ],
      "text/plain": [
       "<pandas.io.formats.style.Styler at 0x268a9e00160>"
      ]
     },
     "execution_count": 11,
     "metadata": {},
     "output_type": "execute_result"
    }
   ],
   "source": [
    "s= df1.groupby(['Sex','Resting_blood_pressure'])['Heart_attack'].count().reset_index().sort_values(by='Heart_attack',ascending=False)\n",
    "s.head(10).style.background_gradient(cmap='Greens')"
   ]
  },
  {
   "cell_type": "markdown",
   "metadata": {},
   "source": [
    "The resting blood pressure and the cases of heart attack for such pressure in case of males and females."
   ]
  },
  {
   "cell_type": "code",
   "execution_count": 12,
   "metadata": {},
   "outputs": [
    {
     "data": {
      "text/html": [
       "<style  type=\"text/css\" >\n",
       "#T_9c955_row0_col1{\n",
       "            background-color:  #fee4d8;\n",
       "            color:  #000000;\n",
       "        }#T_9c955_row0_col2,#T_9c955_row4_col1{\n",
       "            background-color:  #67000d;\n",
       "            color:  #f1f1f1;\n",
       "        }#T_9c955_row1_col1,#T_9c955_row7_col2,#T_9c955_row8_col2,#T_9c955_row9_col2{\n",
       "            background-color:  #fff5f0;\n",
       "            color:  #000000;\n",
       "        }#T_9c955_row1_col2,#T_9c955_row2_col2,#T_9c955_row3_col2,#T_9c955_row4_col2,#T_9c955_row5_col2,#T_9c955_row6_col2,#T_9c955_row9_col1{\n",
       "            background-color:  #fb694a;\n",
       "            color:  #000000;\n",
       "        }#T_9c955_row2_col1{\n",
       "            background-color:  #fc8f6f;\n",
       "            color:  #000000;\n",
       "        }#T_9c955_row3_col1{\n",
       "            background-color:  #fc9373;\n",
       "            color:  #000000;\n",
       "        }#T_9c955_row5_col1{\n",
       "            background-color:  #ea362a;\n",
       "            color:  #f1f1f1;\n",
       "        }#T_9c955_row6_col1{\n",
       "            background-color:  #b11218;\n",
       "            color:  #f1f1f1;\n",
       "        }#T_9c955_row7_col1{\n",
       "            background-color:  #f75c41;\n",
       "            color:  #000000;\n",
       "        }#T_9c955_row8_col1{\n",
       "            background-color:  #f96044;\n",
       "            color:  #000000;\n",
       "        }</style><table id=\"T_9c955_\" ><thead>    <tr>        <th class=\"blank level0\" ></th>        <th class=\"col_heading level0 col0\" >Sex</th>        <th class=\"col_heading level0 col1\" >Cholesterol</th>        <th class=\"col_heading level0 col2\" >Heart_attack</th>    </tr></thead><tbody>\n",
       "                <tr>\n",
       "                        <th id=\"T_9c955_level0_row0\" class=\"row_heading level0 row0\" >115</th>\n",
       "                        <td id=\"T_9c955_row0_col0\" class=\"data row0 col0\" >Male</td>\n",
       "                        <td id=\"T_9c955_row0_col1\" class=\"data row0 col1\" >212</td>\n",
       "                        <td id=\"T_9c955_row0_col2\" class=\"data row0 col2\" >5</td>\n",
       "            </tr>\n",
       "            <tr>\n",
       "                        <th id=\"T_9c955_level0_row1\" class=\"row_heading level0 row1\" >109</th>\n",
       "                        <td id=\"T_9c955_row1_col0\" class=\"data row1 col0\" >Male</td>\n",
       "                        <td id=\"T_9c955_row1_col1\" class=\"data row1 col1\" >204</td>\n",
       "                        <td id=\"T_9c955_row1_col2\" class=\"data row1 col2\" >4</td>\n",
       "            </tr>\n",
       "            <tr>\n",
       "                        <th id=\"T_9c955_level0_row2\" class=\"row_heading level0 row2\" >135</th>\n",
       "                        <td id=\"T_9c955_row2_col0\" class=\"data row2 col0\" >Male</td>\n",
       "                        <td id=\"T_9c955_row2_col1\" class=\"data row2 col1\" >234</td>\n",
       "                        <td id=\"T_9c955_row2_col2\" class=\"data row2 col2\" >4</td>\n",
       "            </tr>\n",
       "            <tr>\n",
       "                        <th id=\"T_9c955_level0_row3\" class=\"row_heading level0 row3\" >134</th>\n",
       "                        <td id=\"T_9c955_row3_col0\" class=\"data row3 col0\" >Male</td>\n",
       "                        <td id=\"T_9c955_row3_col1\" class=\"data row3 col1\" >233</td>\n",
       "                        <td id=\"T_9c955_row3_col2\" class=\"data row3 col2\" >4</td>\n",
       "            </tr>\n",
       "            <tr>\n",
       "                        <th id=\"T_9c955_level0_row4\" class=\"row_heading level0 row4\" >172</th>\n",
       "                        <td id=\"T_9c955_row4_col0\" class=\"data row4 col0\" >Male</td>\n",
       "                        <td id=\"T_9c955_row4_col1\" class=\"data row4 col1\" >282</td>\n",
       "                        <td id=\"T_9c955_row4_col2\" class=\"data row4 col2\" >4</td>\n",
       "            </tr>\n",
       "            <tr>\n",
       "                        <th id=\"T_9c955_level0_row5\" class=\"row_heading level0 row5\" >150</th>\n",
       "                        <td id=\"T_9c955_row5_col0\" class=\"data row5 col0\" >Male</td>\n",
       "                        <td id=\"T_9c955_row5_col1\" class=\"data row5 col1\" >254</td>\n",
       "                        <td id=\"T_9c955_row5_col2\" class=\"data row5 col2\" >4</td>\n",
       "            </tr>\n",
       "            <tr>\n",
       "                        <th id=\"T_9c955_level0_row6\" class=\"row_heading level0 row6\" >48</th>\n",
       "                        <td id=\"T_9c955_row6_col0\" class=\"data row6 col0\" >Female</td>\n",
       "                        <td id=\"T_9c955_row6_col1\" class=\"data row6 col1\" >269</td>\n",
       "                        <td id=\"T_9c955_row6_col2\" class=\"data row6 col2\" >4</td>\n",
       "            </tr>\n",
       "            <tr>\n",
       "                        <th id=\"T_9c955_level0_row7\" class=\"row_heading level0 row7\" >144</th>\n",
       "                        <td id=\"T_9c955_row7_col0\" class=\"data row7 col0\" >Male</td>\n",
       "                        <td id=\"T_9c955_row7_col1\" class=\"data row7 col1\" >246</td>\n",
       "                        <td id=\"T_9c955_row7_col2\" class=\"data row7 col2\" >3</td>\n",
       "            </tr>\n",
       "            <tr>\n",
       "                        <th id=\"T_9c955_level0_row8\" class=\"row_heading level0 row8\" >143</th>\n",
       "                        <td id=\"T_9c955_row8_col0\" class=\"data row8 col0\" >Male</td>\n",
       "                        <td id=\"T_9c955_row8_col1\" class=\"data row8 col1\" >245</td>\n",
       "                        <td id=\"T_9c955_row8_col2\" class=\"data row8 col2\" >3</td>\n",
       "            </tr>\n",
       "            <tr>\n",
       "                        <th id=\"T_9c955_level0_row9\" class=\"row_heading level0 row9\" >141</th>\n",
       "                        <td id=\"T_9c955_row9_col0\" class=\"data row9 col0\" >Male</td>\n",
       "                        <td id=\"T_9c955_row9_col1\" class=\"data row9 col1\" >243</td>\n",
       "                        <td id=\"T_9c955_row9_col2\" class=\"data row9 col2\" >3</td>\n",
       "            </tr>\n",
       "    </tbody></table>"
      ],
      "text/plain": [
       "<pandas.io.formats.style.Styler at 0x268ab16f6a0>"
      ]
     },
     "execution_count": 12,
     "metadata": {},
     "output_type": "execute_result"
    }
   ],
   "source": [
    "s= df1.groupby(['Sex','Cholesterol'])['Heart_attack'].count().reset_index().sort_values(by='Heart_attack',ascending=False)\n",
    "s.head(10).style.background_gradient(cmap='Reds')"
   ]
  },
  {
   "cell_type": "markdown",
   "metadata": {},
   "source": [
    "Generally males having high cholesterol had higher cases of heart attacks than females at the same Cholesterol."
   ]
  },
  {
   "cell_type": "code",
   "execution_count": 13,
   "metadata": {},
   "outputs": [
    {
     "data": {
      "text/html": [
       "<style  type=\"text/css\" >\n",
       "#T_501bf_row0_col1,#T_501bf_row1_col1,#T_501bf_row3_col2{\n",
       "            background-color:  #fff5f0;\n",
       "            color:  #000000;\n",
       "        }#T_501bf_row0_col2,#T_501bf_row2_col1,#T_501bf_row3_col1{\n",
       "            background-color:  #67000d;\n",
       "            color:  #f1f1f1;\n",
       "        }#T_501bf_row1_col2{\n",
       "            background-color:  #fb7c5c;\n",
       "            color:  #000000;\n",
       "        }#T_501bf_row2_col2{\n",
       "            background-color:  #fedfd0;\n",
       "            color:  #000000;\n",
       "        }</style><table id=\"T_501bf_\" ><thead>    <tr>        <th class=\"blank level0\" ></th>        <th class=\"col_heading level0 col0\" >Sex</th>        <th class=\"col_heading level0 col1\" >Fasting_blood_sugar</th>        <th class=\"col_heading level0 col2\" >Heart_attack</th>    </tr></thead><tbody>\n",
       "                <tr>\n",
       "                        <th id=\"T_501bf_level0_row0\" class=\"row_heading level0 row0\" >2</th>\n",
       "                        <td id=\"T_501bf_row0_col0\" class=\"data row0 col0\" >Male</td>\n",
       "                        <td id=\"T_501bf_row0_col1\" class=\"data row0 col1\" >0</td>\n",
       "                        <td id=\"T_501bf_row0_col2\" class=\"data row0 col2\" >174</td>\n",
       "            </tr>\n",
       "            <tr>\n",
       "                        <th id=\"T_501bf_level0_row1\" class=\"row_heading level0 row1\" >0</th>\n",
       "                        <td id=\"T_501bf_row1_col0\" class=\"data row1 col0\" >Female</td>\n",
       "                        <td id=\"T_501bf_row1_col1\" class=\"data row1 col1\" >0</td>\n",
       "                        <td id=\"T_501bf_row1_col2\" class=\"data row1 col2\" >84</td>\n",
       "            </tr>\n",
       "            <tr>\n",
       "                        <th id=\"T_501bf_level0_row2\" class=\"row_heading level0 row2\" >3</th>\n",
       "                        <td id=\"T_501bf_row2_col0\" class=\"data row2 col0\" >Male</td>\n",
       "                        <td id=\"T_501bf_row2_col1\" class=\"data row2 col1\" >1</td>\n",
       "                        <td id=\"T_501bf_row2_col2\" class=\"data row2 col2\" >33</td>\n",
       "            </tr>\n",
       "            <tr>\n",
       "                        <th id=\"T_501bf_level0_row3\" class=\"row_heading level0 row3\" >1</th>\n",
       "                        <td id=\"T_501bf_row3_col0\" class=\"data row3 col0\" >Female</td>\n",
       "                        <td id=\"T_501bf_row3_col1\" class=\"data row3 col1\" >1</td>\n",
       "                        <td id=\"T_501bf_row3_col2\" class=\"data row3 col2\" >12</td>\n",
       "            </tr>\n",
       "    </tbody></table>"
      ],
      "text/plain": [
       "<pandas.io.formats.style.Styler at 0x268a9e01520>"
      ]
     },
     "execution_count": 13,
     "metadata": {},
     "output_type": "execute_result"
    }
   ],
   "source": [
    "s= df1.groupby(['Sex','Fasting_blood_sugar'])['Heart_attack'].count().reset_index().sort_values(by='Heart_attack',ascending=False)\n",
    "s.head(10).style.background_gradient(cmap='Reds')"
   ]
  },
  {
   "cell_type": "markdown",
   "metadata": {},
   "source": [
    "This shows relation of Fasting blood sugar with heart attack in case of Male and Females."
   ]
  },
  {
   "cell_type": "code",
   "execution_count": 14,
   "metadata": {},
   "outputs": [
    {
     "data": {
      "text/html": [
       "<style  type=\"text/css\" >\n",
       "#T_be859_row0_col1,#T_be859_row3_col1,#T_be859_row5_col2{\n",
       "            background-color:  #ffffff;\n",
       "            color:  #000000;\n",
       "        }#T_be859_row0_col2,#T_be859_row1_col2,#T_be859_row4_col1,#T_be859_row5_col1{\n",
       "            background-color:  #000000;\n",
       "            color:  #f1f1f1;\n",
       "        }#T_be859_row1_col1,#T_be859_row2_col1{\n",
       "            background-color:  #959595;\n",
       "            color:  #000000;\n",
       "        }#T_be859_row2_col2{\n",
       "            background-color:  #9f9f9f;\n",
       "            color:  #000000;\n",
       "        }#T_be859_row3_col2{\n",
       "            background-color:  #afafaf;\n",
       "            color:  #000000;\n",
       "        }#T_be859_row4_col2{\n",
       "            background-color:  #fdfdfd;\n",
       "            color:  #000000;\n",
       "        }</style><table id=\"T_be859_\" ><thead>    <tr>        <th class=\"blank level0\" ></th>        <th class=\"col_heading level0 col0\" >Sex</th>        <th class=\"col_heading level0 col1\" >ECG_results</th>        <th class=\"col_heading level0 col2\" >Heart_attack</th>    </tr></thead><tbody>\n",
       "                <tr>\n",
       "                        <th id=\"T_be859_level0_row0\" class=\"row_heading level0 row0\" >3</th>\n",
       "                        <td id=\"T_be859_row0_col0\" class=\"data row0 col0\" >Male</td>\n",
       "                        <td id=\"T_be859_row0_col1\" class=\"data row0 col1\" >0</td>\n",
       "                        <td id=\"T_be859_row0_col2\" class=\"data row0 col2\" >103</td>\n",
       "            </tr>\n",
       "            <tr>\n",
       "                        <th id=\"T_be859_level0_row1\" class=\"row_heading level0 row1\" >4</th>\n",
       "                        <td id=\"T_be859_row1_col0\" class=\"data row1 col0\" >Male</td>\n",
       "                        <td id=\"T_be859_row1_col1\" class=\"data row1 col1\" >1</td>\n",
       "                        <td id=\"T_be859_row1_col2\" class=\"data row1 col2\" >103</td>\n",
       "            </tr>\n",
       "            <tr>\n",
       "                        <th id=\"T_be859_level0_row2\" class=\"row_heading level0 row2\" >1</th>\n",
       "                        <td id=\"T_be859_row2_col0\" class=\"data row2 col0\" >Female</td>\n",
       "                        <td id=\"T_be859_row2_col1\" class=\"data row2 col1\" >1</td>\n",
       "                        <td id=\"T_be859_row2_col2\" class=\"data row2 col2\" >49</td>\n",
       "            </tr>\n",
       "            <tr>\n",
       "                        <th id=\"T_be859_level0_row3\" class=\"row_heading level0 row3\" >0</th>\n",
       "                        <td id=\"T_be859_row3_col0\" class=\"data row3 col0\" >Female</td>\n",
       "                        <td id=\"T_be859_row3_col1\" class=\"data row3 col1\" >0</td>\n",
       "                        <td id=\"T_be859_row3_col2\" class=\"data row3 col2\" >44</td>\n",
       "            </tr>\n",
       "            <tr>\n",
       "                        <th id=\"T_be859_level0_row4\" class=\"row_heading level0 row4\" >2</th>\n",
       "                        <td id=\"T_be859_row4_col0\" class=\"data row4 col0\" >Female</td>\n",
       "                        <td id=\"T_be859_row4_col1\" class=\"data row4 col1\" >2</td>\n",
       "                        <td id=\"T_be859_row4_col2\" class=\"data row4 col2\" >3</td>\n",
       "            </tr>\n",
       "            <tr>\n",
       "                        <th id=\"T_be859_level0_row5\" class=\"row_heading level0 row5\" >5</th>\n",
       "                        <td id=\"T_be859_row5_col0\" class=\"data row5 col0\" >Male</td>\n",
       "                        <td id=\"T_be859_row5_col1\" class=\"data row5 col1\" >2</td>\n",
       "                        <td id=\"T_be859_row5_col2\" class=\"data row5 col2\" >1</td>\n",
       "            </tr>\n",
       "    </tbody></table>"
      ],
      "text/plain": [
       "<pandas.io.formats.style.Styler at 0x268a9e01490>"
      ]
     },
     "execution_count": 14,
     "metadata": {},
     "output_type": "execute_result"
    }
   ],
   "source": [
    "s= df1.groupby(['Sex','ECG_results'])['Heart_attack'].count().reset_index().sort_values(by='Heart_attack',ascending=False)\n",
    "s.head(10).style.background_gradient(cmap='Greys')"
   ]
  },
  {
   "cell_type": "markdown",
   "metadata": {},
   "source": [
    "This shows the lower the ECG Results, the more cases of heart attack occurred."
   ]
  },
  {
   "cell_type": "code",
   "execution_count": 15,
   "metadata": {},
   "outputs": [
    {
     "data": {
      "text/html": [
       "<style  type=\"text/css\" >\n",
       "#T_414d8_row0_col1{\n",
       "            background-color:  #fda863;\n",
       "            color:  #000000;\n",
       "        }#T_414d8_row0_col2,#T_414d8_row1_col2,#T_414d8_row2_col2,#T_414d8_row3_col1,#T_414d8_row3_col2{\n",
       "            background-color:  #7f2704;\n",
       "            color:  #f1f1f1;\n",
       "        }#T_414d8_row1_col1{\n",
       "            background-color:  #fee2c7;\n",
       "            color:  #000000;\n",
       "        }#T_414d8_row2_col1{\n",
       "            background-color:  #d04501;\n",
       "            color:  #f1f1f1;\n",
       "        }#T_414d8_row4_col1{\n",
       "            background-color:  #fdbf86;\n",
       "            color:  #000000;\n",
       "        }#T_414d8_row4_col2,#T_414d8_row5_col2,#T_414d8_row6_col2,#T_414d8_row7_col2,#T_414d8_row8_col2{\n",
       "            background-color:  #fd8c3b;\n",
       "            color:  #000000;\n",
       "        }#T_414d8_row5_col1{\n",
       "            background-color:  #852904;\n",
       "            color:  #f1f1f1;\n",
       "        }#T_414d8_row6_col1{\n",
       "            background-color:  #fb8735;\n",
       "            color:  #000000;\n",
       "        }#T_414d8_row7_col1,#T_414d8_row9_col2{\n",
       "            background-color:  #fff5eb;\n",
       "            color:  #000000;\n",
       "        }#T_414d8_row8_col1{\n",
       "            background-color:  #ed6310;\n",
       "            color:  #000000;\n",
       "        }#T_414d8_row9_col1{\n",
       "            background-color:  #c84202;\n",
       "            color:  #f1f1f1;\n",
       "        }</style><table id=\"T_414d8_\" ><thead>    <tr>        <th class=\"blank level0\" ></th>        <th class=\"col_heading level0 col0\" >Sex</th>        <th class=\"col_heading level0 col1\" >Maximum_heart_rate</th>        <th class=\"col_heading level0 col2\" >Heart_attack</th>    </tr></thead><tbody>\n",
       "                <tr>\n",
       "                        <th id=\"T_414d8_level0_row0\" class=\"row_heading level0 row0\" >86</th>\n",
       "                        <td id=\"T_414d8_row0_col0\" class=\"data row0 col0\" >Male</td>\n",
       "                        <td id=\"T_414d8_row0_col1\" class=\"data row0 col1\" >144</td>\n",
       "                        <td id=\"T_414d8_row0_col2\" class=\"data row0 col2\" >7</td>\n",
       "            </tr>\n",
       "            <tr>\n",
       "                        <th id=\"T_414d8_level0_row1\" class=\"row_heading level0 row1\" >77</th>\n",
       "                        <td id=\"T_414d8_row1_col0\" class=\"data row1 col0\" >Male</td>\n",
       "                        <td id=\"T_414d8_row1_col1\" class=\"data row1 col1\" >132</td>\n",
       "                        <td id=\"T_414d8_row1_col2\" class=\"data row1 col2\" >7</td>\n",
       "            </tr>\n",
       "            <tr>\n",
       "                        <th id=\"T_414d8_level0_row2\" class=\"row_heading level0 row2\" >103</th>\n",
       "                        <td id=\"T_414d8_row2_col0\" class=\"data row2 col0\" >Male</td>\n",
       "                        <td id=\"T_414d8_row2_col1\" class=\"data row2 col1\" >162</td>\n",
       "                        <td id=\"T_414d8_row2_col2\" class=\"data row2 col2\" >7</td>\n",
       "            </tr>\n",
       "            <tr>\n",
       "                        <th id=\"T_414d8_level0_row3\" class=\"row_heading level0 row3\" >113</th>\n",
       "                        <td id=\"T_414d8_row3_col0\" class=\"data row3 col0\" >Male</td>\n",
       "                        <td id=\"T_414d8_row3_col1\" class=\"data row3 col1\" >173</td>\n",
       "                        <td id=\"T_414d8_row3_col2\" class=\"data row3 col2\" >7</td>\n",
       "            </tr>\n",
       "            <tr>\n",
       "                        <th id=\"T_414d8_level0_row4\" class=\"row_heading level0 row4\" >82</th>\n",
       "                        <td id=\"T_414d8_row4_col0\" class=\"data row4 col0\" >Male</td>\n",
       "                        <td id=\"T_414d8_row4_col1\" class=\"data row4 col1\" >140</td>\n",
       "                        <td id=\"T_414d8_row4_col2\" class=\"data row4 col2\" >6</td>\n",
       "            </tr>\n",
       "            <tr>\n",
       "                        <th id=\"T_414d8_level0_row5\" class=\"row_heading level0 row5\" >42</th>\n",
       "                        <td id=\"T_414d8_row5_col0\" class=\"data row5 col0\" >Female</td>\n",
       "                        <td id=\"T_414d8_row5_col1\" class=\"data row5 col1\" >172</td>\n",
       "                        <td id=\"T_414d8_row5_col2\" class=\"data row5 col2\" >6</td>\n",
       "            </tr>\n",
       "            <tr>\n",
       "                        <th id=\"T_414d8_level0_row6\" class=\"row_heading level0 row6\" >91</th>\n",
       "                        <td id=\"T_414d8_row6_col0\" class=\"data row6 col0\" >Male</td>\n",
       "                        <td id=\"T_414d8_row6_col1\" class=\"data row6 col1\" >150</td>\n",
       "                        <td id=\"T_414d8_row6_col2\" class=\"data row6 col2\" >6</td>\n",
       "            </tr>\n",
       "            <tr>\n",
       "                        <th id=\"T_414d8_level0_row7\" class=\"row_heading level0 row7\" >70</th>\n",
       "                        <td id=\"T_414d8_row7_col0\" class=\"data row7 col0\" >Male</td>\n",
       "                        <td id=\"T_414d8_row7_col1\" class=\"data row7 col1\" >125</td>\n",
       "                        <td id=\"T_414d8_row7_col2\" class=\"data row7 col2\" >6</td>\n",
       "            </tr>\n",
       "            <tr>\n",
       "                        <th id=\"T_414d8_level0_row8\" class=\"row_heading level0 row8\" >97</th>\n",
       "                        <td id=\"T_414d8_row8_col0\" class=\"data row8 col0\" >Male</td>\n",
       "                        <td id=\"T_414d8_row8_col1\" class=\"data row8 col1\" >156</td>\n",
       "                        <td id=\"T_414d8_row8_col2\" class=\"data row8 col2\" >6</td>\n",
       "            </tr>\n",
       "            <tr>\n",
       "                        <th id=\"T_414d8_level0_row9\" class=\"row_heading level0 row9\" >34</th>\n",
       "                        <td id=\"T_414d8_row9_col0\" class=\"data row9 col0\" >Female</td>\n",
       "                        <td id=\"T_414d8_row9_col1\" class=\"data row9 col1\" >163</td>\n",
       "                        <td id=\"T_414d8_row9_col2\" class=\"data row9 col2\" >5</td>\n",
       "            </tr>\n",
       "    </tbody></table>"
      ],
      "text/plain": [
       "<pandas.io.formats.style.Styler at 0x268ab18b9a0>"
      ]
     },
     "execution_count": 15,
     "metadata": {},
     "output_type": "execute_result"
    }
   ],
   "source": [
    "s= df1.groupby(['Sex','Maximum_heart_rate'])['Heart_attack'].count().reset_index().sort_values(by='Heart_attack',ascending=False)\n",
    "s.head(10).style.background_gradient(cmap='Oranges')"
   ]
  },
  {
   "cell_type": "markdown",
   "metadata": {},
   "source": [
    "The maximum heart rate varied for heart attack and were higher for males resulting in heart attack"
   ]
  },
  {
   "cell_type": "code",
   "execution_count": 16,
   "metadata": {},
   "outputs": [
    {
     "data": {
      "text/html": [
       "<style  type=\"text/css\" >\n",
       "#T_64f56_row0_col1,#T_64f56_row2_col1,#T_64f56_row3_col2{\n",
       "            background-color:  #fcfbfd;\n",
       "            color:  #000000;\n",
       "        }#T_64f56_row0_col2,#T_64f56_row1_col1,#T_64f56_row3_col1{\n",
       "            background-color:  #3f007d;\n",
       "            color:  #f1f1f1;\n",
       "        }#T_64f56_row1_col2{\n",
       "            background-color:  #9c98c7;\n",
       "            color:  #000000;\n",
       "        }#T_64f56_row2_col2{\n",
       "            background-color:  #a29fcb;\n",
       "            color:  #000000;\n",
       "        }</style><table id=\"T_64f56_\" ><thead>    <tr>        <th class=\"blank level0\" ></th>        <th class=\"col_heading level0 col0\" >Sex</th>        <th class=\"col_heading level0 col1\" >Exercise_induced_angina</th>        <th class=\"col_heading level0 col2\" >Heart_attack</th>    </tr></thead><tbody>\n",
       "                <tr>\n",
       "                        <th id=\"T_64f56_level0_row0\" class=\"row_heading level0 row0\" >2</th>\n",
       "                        <td id=\"T_64f56_row0_col0\" class=\"data row0 col0\" >Male</td>\n",
       "                        <td id=\"T_64f56_row0_col1\" class=\"data row0 col1\" >0</td>\n",
       "                        <td id=\"T_64f56_row0_col2\" class=\"data row0 col2\" >130</td>\n",
       "            </tr>\n",
       "            <tr>\n",
       "                        <th id=\"T_64f56_level0_row1\" class=\"row_heading level0 row1\" >3</th>\n",
       "                        <td id=\"T_64f56_row1_col0\" class=\"data row1 col0\" >Male</td>\n",
       "                        <td id=\"T_64f56_row1_col1\" class=\"data row1 col1\" >1</td>\n",
       "                        <td id=\"T_64f56_row1_col2\" class=\"data row1 col2\" >77</td>\n",
       "            </tr>\n",
       "            <tr>\n",
       "                        <th id=\"T_64f56_level0_row2\" class=\"row_heading level0 row2\" >0</th>\n",
       "                        <td id=\"T_64f56_row2_col0\" class=\"data row2 col0\" >Female</td>\n",
       "                        <td id=\"T_64f56_row2_col1\" class=\"data row2 col1\" >0</td>\n",
       "                        <td id=\"T_64f56_row2_col2\" class=\"data row2 col2\" >74</td>\n",
       "            </tr>\n",
       "            <tr>\n",
       "                        <th id=\"T_64f56_level0_row3\" class=\"row_heading level0 row3\" >1</th>\n",
       "                        <td id=\"T_64f56_row3_col0\" class=\"data row3 col0\" >Female</td>\n",
       "                        <td id=\"T_64f56_row3_col1\" class=\"data row3 col1\" >1</td>\n",
       "                        <td id=\"T_64f56_row3_col2\" class=\"data row3 col2\" >22</td>\n",
       "            </tr>\n",
       "    </tbody></table>"
      ],
      "text/plain": [
       "<pandas.io.formats.style.Styler at 0x268ab1cc160>"
      ]
     },
     "execution_count": 16,
     "metadata": {},
     "output_type": "execute_result"
    }
   ],
   "source": [
    "s= df1.groupby(['Sex','Exercise_induced_angina'])['Heart_attack'].count().reset_index().sort_values(by='Heart_attack',ascending=False)\n",
    "s.head(10).style.background_gradient(cmap='Purples')"
   ]
  },
  {
   "cell_type": "markdown",
   "metadata": {},
   "source": [
    "Exercise induced chest pain was higher in males and more resulted in Heart attacks."
   ]
  },
  {
   "cell_type": "code",
   "execution_count": 17,
   "metadata": {},
   "outputs": [
    {
     "data": {
      "text/html": [
       "<style  type=\"text/css\" >\n",
       "#T_8f84c_row0_col1,#T_8f84c_row1_col1,#T_8f84c_row8_col2,#T_8f84c_row9_col2{\n",
       "            background-color:  #f7fbff;\n",
       "            color:  #000000;\n",
       "        }#T_8f84c_row0_col2,#T_8f84c_row8_col1{\n",
       "            background-color:  #08306b;\n",
       "            color:  #f1f1f1;\n",
       "        }#T_8f84c_row1_col2{\n",
       "            background-color:  #6fb0d7;\n",
       "            color:  #000000;\n",
       "        }#T_8f84c_row2_col1{\n",
       "            background-color:  #4a98c9;\n",
       "            color:  #000000;\n",
       "        }#T_8f84c_row2_col2{\n",
       "            background-color:  #e3eef8;\n",
       "            color:  #000000;\n",
       "        }#T_8f84c_row3_col1{\n",
       "            background-color:  #94c4df;\n",
       "            color:  #000000;\n",
       "        }#T_8f84c_row3_col2{\n",
       "            background-color:  #edf4fc;\n",
       "            color:  #000000;\n",
       "        }#T_8f84c_row4_col1{\n",
       "            background-color:  #6aaed6;\n",
       "            color:  #000000;\n",
       "        }#T_8f84c_row4_col2{\n",
       "            background-color:  #f1f7fd;\n",
       "            color:  #000000;\n",
       "        }#T_8f84c_row5_col1{\n",
       "            background-color:  #084a91;\n",
       "            color:  #f1f1f1;\n",
       "        }#T_8f84c_row5_col2,#T_8f84c_row6_col2,#T_8f84c_row7_col2{\n",
       "            background-color:  #f4f9fe;\n",
       "            color:  #000000;\n",
       "        }#T_8f84c_row6_col1{\n",
       "            background-color:  #2e7ebc;\n",
       "            color:  #000000;\n",
       "        }#T_8f84c_row7_col1{\n",
       "            background-color:  #b7d4ea;\n",
       "            color:  #000000;\n",
       "        }#T_8f84c_row9_col1{\n",
       "            background-color:  #1764ab;\n",
       "            color:  #f1f1f1;\n",
       "        }</style><table id=\"T_8f84c_\" ><thead>    <tr>        <th class=\"blank level0\" ></th>        <th class=\"col_heading level0 col0\" >Sex</th>        <th class=\"col_heading level0 col1\" >ST_depression</th>        <th class=\"col_heading level0 col2\" >Heart_attack</th>    </tr></thead><tbody>\n",
       "                <tr>\n",
       "                        <th id=\"T_8f84c_level0_row0\" class=\"row_heading level0 row0\" >27</th>\n",
       "                        <td id=\"T_8f84c_row0_col0\" class=\"data row0 col0\" >Male</td>\n",
       "                        <td id=\"T_8f84c_row0_col1\" class=\"data row0 col1\" >0.000000</td>\n",
       "                        <td id=\"T_8f84c_row0_col2\" class=\"data row0 col2\" >64</td>\n",
       "            </tr>\n",
       "            <tr>\n",
       "                        <th id=\"T_8f84c_level0_row1\" class=\"row_heading level0 row1\" >0</th>\n",
       "                        <td id=\"T_8f84c_row1_col0\" class=\"data row1 col0\" >Female</td>\n",
       "                        <td id=\"T_8f84c_row1_col1\" class=\"data row1 col1\" >0.000000</td>\n",
       "                        <td id=\"T_8f84c_row1_col2\" class=\"data row1 col2\" >35</td>\n",
       "            </tr>\n",
       "            <tr>\n",
       "                        <th id=\"T_8f84c_level0_row2\" class=\"row_heading level0 row2\" >37</th>\n",
       "                        <td id=\"T_8f84c_row2_col0\" class=\"data row2 col0\" >Male</td>\n",
       "                        <td id=\"T_8f84c_row2_col1\" class=\"data row2 col1\" >1.200000</td>\n",
       "                        <td id=\"T_8f84c_row2_col2\" class=\"data row2 col2\" >13</td>\n",
       "            </tr>\n",
       "            <tr>\n",
       "                        <th id=\"T_8f84c_level0_row3\" class=\"row_heading level0 row3\" >34</th>\n",
       "                        <td id=\"T_8f84c_row3_col0\" class=\"data row3 col0\" >Male</td>\n",
       "                        <td id=\"T_8f84c_row3_col1\" class=\"data row3 col1\" >0.800000</td>\n",
       "                        <td id=\"T_8f84c_row3_col2\" class=\"data row3 col2\" >10</td>\n",
       "            </tr>\n",
       "            <tr>\n",
       "                        <th id=\"T_8f84c_level0_row4\" class=\"row_heading level0 row4\" >36</th>\n",
       "                        <td id=\"T_8f84c_row4_col0\" class=\"data row4 col0\" >Male</td>\n",
       "                        <td id=\"T_8f84c_row4_col1\" class=\"data row4 col1\" >1.000000</td>\n",
       "                        <td id=\"T_8f84c_row4_col2\" class=\"data row4 col2\" >9</td>\n",
       "            </tr>\n",
       "            <tr>\n",
       "                        <th id=\"T_8f84c_level0_row5\" class=\"row_heading level0 row5\" >41</th>\n",
       "                        <td id=\"T_8f84c_row5_col0\" class=\"data row5 col0\" >Male</td>\n",
       "                        <td id=\"T_8f84c_row5_col1\" class=\"data row5 col1\" >1.800000</td>\n",
       "                        <td id=\"T_8f84c_row5_col2\" class=\"data row5 col2\" >8</td>\n",
       "            </tr>\n",
       "            <tr>\n",
       "                        <th id=\"T_8f84c_level0_row6\" class=\"row_heading level0 row6\" >38</th>\n",
       "                        <td id=\"T_8f84c_row6_col0\" class=\"data row6 col0\" >Male</td>\n",
       "                        <td id=\"T_8f84c_row6_col1\" class=\"data row6 col1\" >1.400000</td>\n",
       "                        <td id=\"T_8f84c_row6_col2\" class=\"data row6 col2\" >8</td>\n",
       "            </tr>\n",
       "            <tr>\n",
       "                        <th id=\"T_8f84c_level0_row7\" class=\"row_heading level0 row7\" >33</th>\n",
       "                        <td id=\"T_8f84c_row7_col0\" class=\"data row7 col0\" >Male</td>\n",
       "                        <td id=\"T_8f84c_row7_col1\" class=\"data row7 col1\" >0.600000</td>\n",
       "                        <td id=\"T_8f84c_row7_col2\" class=\"data row7 col2\" >8</td>\n",
       "            </tr>\n",
       "            <tr>\n",
       "                        <th id=\"T_8f84c_level0_row8\" class=\"row_heading level0 row8\" >43</th>\n",
       "                        <td id=\"T_8f84c_row8_col0\" class=\"data row8 col0\" >Male</td>\n",
       "                        <td id=\"T_8f84c_row8_col1\" class=\"data row8 col1\" >2.000000</td>\n",
       "                        <td id=\"T_8f84c_row8_col2\" class=\"data row8 col2\" >7</td>\n",
       "            </tr>\n",
       "            <tr>\n",
       "                        <th id=\"T_8f84c_level0_row9\" class=\"row_heading level0 row9\" >40</th>\n",
       "                        <td id=\"T_8f84c_row9_col0\" class=\"data row9 col0\" >Male</td>\n",
       "                        <td id=\"T_8f84c_row9_col1\" class=\"data row9 col1\" >1.600000</td>\n",
       "                        <td id=\"T_8f84c_row9_col2\" class=\"data row9 col2\" >7</td>\n",
       "            </tr>\n",
       "    </tbody></table>"
      ],
      "text/plain": [
       "<pandas.io.formats.style.Styler at 0x268ab1d9c70>"
      ]
     },
     "execution_count": 17,
     "metadata": {},
     "output_type": "execute_result"
    }
   ],
   "source": [
    "s= df1.groupby(['Sex','ST_depression'])['Heart_attack'].count().reset_index().sort_values(by='Heart_attack',ascending=False)\n",
    "s.head(10).style.background_gradient(cmap='Blues')"
   ]
  },
  {
   "cell_type": "markdown",
   "metadata": {},
   "source": [
    "The lower the depression, the higher the cases were for heart attack."
   ]
  },
  {
   "cell_type": "code",
   "execution_count": 18,
   "metadata": {},
   "outputs": [
    {
     "data": {
      "text/html": [
       "<style  type=\"text/css\" >\n",
       "#T_477de_row0_col1,#T_477de_row0_col2,#T_477de_row2_col1{\n",
       "            background-color:  #00441b;\n",
       "            color:  #f1f1f1;\n",
       "        }#T_477de_row1_col1,#T_477de_row3_col1{\n",
       "            background-color:  #73c476;\n",
       "            color:  #000000;\n",
       "        }#T_477de_row1_col2{\n",
       "            background-color:  #00471c;\n",
       "            color:  #f1f1f1;\n",
       "        }#T_477de_row2_col2{\n",
       "            background-color:  #86cc85;\n",
       "            color:  #000000;\n",
       "        }#T_477de_row3_col2{\n",
       "            background-color:  #8ace88;\n",
       "            color:  #000000;\n",
       "        }#T_477de_row4_col1,#T_477de_row5_col1,#T_477de_row5_col2{\n",
       "            background-color:  #f7fcf5;\n",
       "            color:  #000000;\n",
       "        }#T_477de_row4_col2{\n",
       "            background-color:  #e6f5e1;\n",
       "            color:  #000000;\n",
       "        }</style><table id=\"T_477de_\" ><thead>    <tr>        <th class=\"blank level0\" ></th>        <th class=\"col_heading level0 col0\" >Sex</th>        <th class=\"col_heading level0 col1\" >ST_slope</th>        <th class=\"col_heading level0 col2\" >Heart_attack</th>    </tr></thead><tbody>\n",
       "                <tr>\n",
       "                        <th id=\"T_477de_level0_row0\" class=\"row_heading level0 row0\" >5</th>\n",
       "                        <td id=\"T_477de_row0_col0\" class=\"data row0 col0\" >Male</td>\n",
       "                        <td id=\"T_477de_row0_col1\" class=\"data row0 col1\" >2</td>\n",
       "                        <td id=\"T_477de_row0_col2\" class=\"data row0 col2\" >96</td>\n",
       "            </tr>\n",
       "            <tr>\n",
       "                        <th id=\"T_477de_level0_row1\" class=\"row_heading level0 row1\" >4</th>\n",
       "                        <td id=\"T_477de_row1_col0\" class=\"data row1 col0\" >Male</td>\n",
       "                        <td id=\"T_477de_row1_col1\" class=\"data row1 col1\" >1</td>\n",
       "                        <td id=\"T_477de_row1_col2\" class=\"data row1 col2\" >95</td>\n",
       "            </tr>\n",
       "            <tr>\n",
       "                        <th id=\"T_477de_level0_row2\" class=\"row_heading level0 row2\" >2</th>\n",
       "                        <td id=\"T_477de_row2_col0\" class=\"data row2 col0\" >Female</td>\n",
       "                        <td id=\"T_477de_row2_col1\" class=\"data row2 col1\" >2</td>\n",
       "                        <td id=\"T_477de_row2_col2\" class=\"data row2 col2\" >46</td>\n",
       "            </tr>\n",
       "            <tr>\n",
       "                        <th id=\"T_477de_level0_row3\" class=\"row_heading level0 row3\" >1</th>\n",
       "                        <td id=\"T_477de_row3_col0\" class=\"data row3 col0\" >Female</td>\n",
       "                        <td id=\"T_477de_row3_col1\" class=\"data row3 col1\" >1</td>\n",
       "                        <td id=\"T_477de_row3_col2\" class=\"data row3 col2\" >45</td>\n",
       "            </tr>\n",
       "            <tr>\n",
       "                        <th id=\"T_477de_level0_row4\" class=\"row_heading level0 row4\" >3</th>\n",
       "                        <td id=\"T_477de_row4_col0\" class=\"data row4 col0\" >Male</td>\n",
       "                        <td id=\"T_477de_row4_col1\" class=\"data row4 col1\" >0</td>\n",
       "                        <td id=\"T_477de_row4_col2\" class=\"data row4 col2\" >16</td>\n",
       "            </tr>\n",
       "            <tr>\n",
       "                        <th id=\"T_477de_level0_row5\" class=\"row_heading level0 row5\" >0</th>\n",
       "                        <td id=\"T_477de_row5_col0\" class=\"data row5 col0\" >Female</td>\n",
       "                        <td id=\"T_477de_row5_col1\" class=\"data row5 col1\" >0</td>\n",
       "                        <td id=\"T_477de_row5_col2\" class=\"data row5 col2\" >5</td>\n",
       "            </tr>\n",
       "    </tbody></table>"
      ],
      "text/plain": [
       "<pandas.io.formats.style.Styler at 0x268ab1d9970>"
      ]
     },
     "execution_count": 18,
     "metadata": {},
     "output_type": "execute_result"
    }
   ],
   "source": [
    "s= df1.groupby(['Sex','ST_slope'])['Heart_attack'].count().reset_index().sort_values(by='Heart_attack',ascending=False)\n",
    "s.head(10).style.background_gradient(cmap='Greens')"
   ]
  },
  {
   "cell_type": "markdown",
   "metadata": {},
   "source": [
    "The higher the slope value, the higher were the cases for Heart attack."
   ]
  },
  {
   "cell_type": "code",
   "execution_count": 19,
   "metadata": {},
   "outputs": [
    {
     "data": {
      "text/html": [
       "<style  type=\"text/css\" >\n",
       "#T_2b064_row0_col1,#T_2b064_row1_col1,#T_2b064_row8_col2{\n",
       "            background-color:  #fff5f0;\n",
       "            color:  #000000;\n",
       "        }#T_2b064_row0_col2,#T_2b064_row7_col1{\n",
       "            background-color:  #67000d;\n",
       "            color:  #f1f1f1;\n",
       "        }#T_2b064_row1_col2{\n",
       "            background-color:  #f5533b;\n",
       "            color:  #000000;\n",
       "        }#T_2b064_row2_col1,#T_2b064_row5_col1{\n",
       "            background-color:  #fcbba1;\n",
       "            color:  #000000;\n",
       "        }#T_2b064_row2_col2{\n",
       "            background-color:  #fc8060;\n",
       "            color:  #000000;\n",
       "        }#T_2b064_row3_col1,#T_2b064_row6_col1{\n",
       "            background-color:  #fb694a;\n",
       "            color:  #000000;\n",
       "        }#T_2b064_row3_col2{\n",
       "            background-color:  #fdcbb6;\n",
       "            color:  #000000;\n",
       "        }#T_2b064_row4_col1,#T_2b064_row8_col1{\n",
       "            background-color:  #ca181d;\n",
       "            color:  #f1f1f1;\n",
       "        }#T_2b064_row4_col2{\n",
       "            background-color:  #fee3d6;\n",
       "            color:  #000000;\n",
       "        }#T_2b064_row5_col2{\n",
       "            background-color:  #fee4d8;\n",
       "            color:  #000000;\n",
       "        }#T_2b064_row6_col2{\n",
       "            background-color:  #fee7dc;\n",
       "            color:  #000000;\n",
       "        }#T_2b064_row7_col2{\n",
       "            background-color:  #fff4ee;\n",
       "            color:  #000000;\n",
       "        }</style><table id=\"T_2b064_\" ><thead>    <tr>        <th class=\"blank level0\" ></th>        <th class=\"col_heading level0 col0\" >Sex</th>        <th class=\"col_heading level0 col1\" >Major_vessels</th>        <th class=\"col_heading level0 col2\" >Heart_attack</th>    </tr></thead><tbody>\n",
       "                <tr>\n",
       "                        <th id=\"T_2b064_level0_row0\" class=\"row_heading level0 row0\" >4</th>\n",
       "                        <td id=\"T_2b064_row0_col0\" class=\"data row0 col0\" >Male</td>\n",
       "                        <td id=\"T_2b064_row0_col1\" class=\"data row0 col1\" >0</td>\n",
       "                        <td id=\"T_2b064_row0_col2\" class=\"data row0 col2\" >111</td>\n",
       "            </tr>\n",
       "            <tr>\n",
       "                        <th id=\"T_2b064_level0_row1\" class=\"row_heading level0 row1\" >0</th>\n",
       "                        <td id=\"T_2b064_row1_col0\" class=\"data row1 col0\" >Female</td>\n",
       "                        <td id=\"T_2b064_row1_col1\" class=\"data row1 col1\" >0</td>\n",
       "                        <td id=\"T_2b064_row1_col2\" class=\"data row1 col2\" >64</td>\n",
       "            </tr>\n",
       "            <tr>\n",
       "                        <th id=\"T_2b064_level0_row2\" class=\"row_heading level0 row2\" >5</th>\n",
       "                        <td id=\"T_2b064_row2_col0\" class=\"data row2 col0\" >Male</td>\n",
       "                        <td id=\"T_2b064_row2_col1\" class=\"data row2 col1\" >1</td>\n",
       "                        <td id=\"T_2b064_row2_col2\" class=\"data row2 col2\" >50</td>\n",
       "            </tr>\n",
       "            <tr>\n",
       "                        <th id=\"T_2b064_level0_row3\" class=\"row_heading level0 row3\" >6</th>\n",
       "                        <td id=\"T_2b064_row3_col0\" class=\"data row3 col0\" >Male</td>\n",
       "                        <td id=\"T_2b064_row3_col1\" class=\"data row3 col1\" >2</td>\n",
       "                        <td id=\"T_2b064_row3_col2\" class=\"data row3 col2\" >25</td>\n",
       "            </tr>\n",
       "            <tr>\n",
       "                        <th id=\"T_2b064_level0_row4\" class=\"row_heading level0 row4\" >7</th>\n",
       "                        <td id=\"T_2b064_row4_col0\" class=\"data row4 col0\" >Male</td>\n",
       "                        <td id=\"T_2b064_row4_col1\" class=\"data row4 col1\" >3</td>\n",
       "                        <td id=\"T_2b064_row4_col2\" class=\"data row4 col2\" >16</td>\n",
       "            </tr>\n",
       "            <tr>\n",
       "                        <th id=\"T_2b064_level0_row5\" class=\"row_heading level0 row5\" >1</th>\n",
       "                        <td id=\"T_2b064_row5_col0\" class=\"data row5 col0\" >Female</td>\n",
       "                        <td id=\"T_2b064_row5_col1\" class=\"data row5 col1\" >1</td>\n",
       "                        <td id=\"T_2b064_row5_col2\" class=\"data row5 col2\" >15</td>\n",
       "            </tr>\n",
       "            <tr>\n",
       "                        <th id=\"T_2b064_level0_row6\" class=\"row_heading level0 row6\" >2</th>\n",
       "                        <td id=\"T_2b064_row6_col0\" class=\"data row6 col0\" >Female</td>\n",
       "                        <td id=\"T_2b064_row6_col1\" class=\"data row6 col1\" >2</td>\n",
       "                        <td id=\"T_2b064_row6_col2\" class=\"data row6 col2\" >13</td>\n",
       "            </tr>\n",
       "            <tr>\n",
       "                        <th id=\"T_2b064_level0_row7\" class=\"row_heading level0 row7\" >8</th>\n",
       "                        <td id=\"T_2b064_row7_col0\" class=\"data row7 col0\" >Male</td>\n",
       "                        <td id=\"T_2b064_row7_col1\" class=\"data row7 col1\" >4</td>\n",
       "                        <td id=\"T_2b064_row7_col2\" class=\"data row7 col2\" >5</td>\n",
       "            </tr>\n",
       "            <tr>\n",
       "                        <th id=\"T_2b064_level0_row8\" class=\"row_heading level0 row8\" >3</th>\n",
       "                        <td id=\"T_2b064_row8_col0\" class=\"data row8 col0\" >Female</td>\n",
       "                        <td id=\"T_2b064_row8_col1\" class=\"data row8 col1\" >3</td>\n",
       "                        <td id=\"T_2b064_row8_col2\" class=\"data row8 col2\" >4</td>\n",
       "            </tr>\n",
       "    </tbody></table>"
      ],
      "text/plain": [
       "<pandas.io.formats.style.Styler at 0x268ab1d95e0>"
      ]
     },
     "execution_count": 19,
     "metadata": {},
     "output_type": "execute_result"
    }
   ],
   "source": [
    "s= df1.groupby(['Sex','Major_vessels'])['Heart_attack'].count().reset_index().sort_values(by='Heart_attack',ascending=False)\n",
    "s.head(10).style.background_gradient(cmap='Reds')"
   ]
  },
  {
   "cell_type": "markdown",
   "metadata": {},
   "source": [
    "The lower the number of vessels blocked, the higher were the heart attack cases. This means that 0 represents that all 4 major blood vessels were blocked and 4 represented all vessels were free for flow."
   ]
  },
  {
   "cell_type": "code",
   "execution_count": 20,
   "metadata": {},
   "outputs": [
    {
     "data": {
      "text/html": [
       "<style  type=\"text/css\" >\n",
       "#T_0fb08_row0_col1,#T_0fb08_row0_col2,#T_0fb08_row4_col1{\n",
       "            background-color:  #000000;\n",
       "            color:  #f1f1f1;\n",
       "        }#T_0fb08_row1_col1,#T_0fb08_row2_col1{\n",
       "            background-color:  #686868;\n",
       "            color:  #f1f1f1;\n",
       "        }#T_0fb08_row1_col2{\n",
       "            background-color:  #2e2e2e;\n",
       "            color:  #f1f1f1;\n",
       "        }#T_0fb08_row2_col2{\n",
       "            background-color:  #4a4a4a;\n",
       "            color:  #f1f1f1;\n",
       "        }#T_0fb08_row3_col1,#T_0fb08_row6_col1{\n",
       "            background-color:  #c6c6c6;\n",
       "            color:  #000000;\n",
       "        }#T_0fb08_row3_col2{\n",
       "            background-color:  #eaeaea;\n",
       "            color:  #000000;\n",
       "        }#T_0fb08_row4_col2{\n",
       "            background-color:  #eeeeee;\n",
       "            color:  #000000;\n",
       "        }#T_0fb08_row5_col1,#T_0fb08_row5_col2,#T_0fb08_row6_col2,#T_0fb08_row7_col1,#T_0fb08_row7_col2{\n",
       "            background-color:  #ffffff;\n",
       "            color:  #000000;\n",
       "        }</style><table id=\"T_0fb08_\" ><thead>    <tr>        <th class=\"blank level0\" ></th>        <th class=\"col_heading level0 col0\" >Sex</th>        <th class=\"col_heading level0 col1\" >Thalassemia_types</th>        <th class=\"col_heading level0 col2\" >Heart_attack</th>    </tr></thead><tbody>\n",
       "                <tr>\n",
       "                        <th id=\"T_0fb08_level0_row0\" class=\"row_heading level0 row0\" >7</th>\n",
       "                        <td id=\"T_0fb08_row0_col0\" class=\"data row0 col0\" >Male</td>\n",
       "                        <td id=\"T_0fb08_row0_col1\" class=\"data row0 col1\" >3</td>\n",
       "                        <td id=\"T_0fb08_row0_col2\" class=\"data row0 col2\" >102</td>\n",
       "            </tr>\n",
       "            <tr>\n",
       "                        <th id=\"T_0fb08_level0_row1\" class=\"row_heading level0 row1\" >6</th>\n",
       "                        <td id=\"T_0fb08_row1_col0\" class=\"data row1 col0\" >Male</td>\n",
       "                        <td id=\"T_0fb08_row1_col1\" class=\"data row1 col1\" >2</td>\n",
       "                        <td id=\"T_0fb08_row1_col2\" class=\"data row1 col2\" >87</td>\n",
       "            </tr>\n",
       "            <tr>\n",
       "                        <th id=\"T_0fb08_level0_row2\" class=\"row_heading level0 row2\" >2</th>\n",
       "                        <td id=\"T_0fb08_row2_col0\" class=\"data row2 col0\" >Female</td>\n",
       "                        <td id=\"T_0fb08_row2_col1\" class=\"data row2 col1\" >2</td>\n",
       "                        <td id=\"T_0fb08_row2_col2\" class=\"data row2 col2\" >79</td>\n",
       "            </tr>\n",
       "            <tr>\n",
       "                        <th id=\"T_0fb08_level0_row3\" class=\"row_heading level0 row3\" >5</th>\n",
       "                        <td id=\"T_0fb08_row3_col0\" class=\"data row3 col0\" >Male</td>\n",
       "                        <td id=\"T_0fb08_row3_col1\" class=\"data row3 col1\" >1</td>\n",
       "                        <td id=\"T_0fb08_row3_col2\" class=\"data row3 col2\" >17</td>\n",
       "            </tr>\n",
       "            <tr>\n",
       "                        <th id=\"T_0fb08_level0_row4\" class=\"row_heading level0 row4\" >3</th>\n",
       "                        <td id=\"T_0fb08_row4_col0\" class=\"data row4 col0\" >Female</td>\n",
       "                        <td id=\"T_0fb08_row4_col1\" class=\"data row4 col1\" >3</td>\n",
       "                        <td id=\"T_0fb08_row4_col2\" class=\"data row4 col2\" >15</td>\n",
       "            </tr>\n",
       "            <tr>\n",
       "                        <th id=\"T_0fb08_level0_row5\" class=\"row_heading level0 row5\" >0</th>\n",
       "                        <td id=\"T_0fb08_row5_col0\" class=\"data row5 col0\" >Female</td>\n",
       "                        <td id=\"T_0fb08_row5_col1\" class=\"data row5 col1\" >0</td>\n",
       "                        <td id=\"T_0fb08_row5_col2\" class=\"data row5 col2\" >1</td>\n",
       "            </tr>\n",
       "            <tr>\n",
       "                        <th id=\"T_0fb08_level0_row6\" class=\"row_heading level0 row6\" >1</th>\n",
       "                        <td id=\"T_0fb08_row6_col0\" class=\"data row6 col0\" >Female</td>\n",
       "                        <td id=\"T_0fb08_row6_col1\" class=\"data row6 col1\" >1</td>\n",
       "                        <td id=\"T_0fb08_row6_col2\" class=\"data row6 col2\" >1</td>\n",
       "            </tr>\n",
       "            <tr>\n",
       "                        <th id=\"T_0fb08_level0_row7\" class=\"row_heading level0 row7\" >4</th>\n",
       "                        <td id=\"T_0fb08_row7_col0\" class=\"data row7 col0\" >Male</td>\n",
       "                        <td id=\"T_0fb08_row7_col1\" class=\"data row7 col1\" >0</td>\n",
       "                        <td id=\"T_0fb08_row7_col2\" class=\"data row7 col2\" >1</td>\n",
       "            </tr>\n",
       "    </tbody></table>"
      ],
      "text/plain": [
       "<pandas.io.formats.style.Styler at 0x268ab1865e0>"
      ]
     },
     "execution_count": 20,
     "metadata": {},
     "output_type": "execute_result"
    }
   ],
   "source": [
    "s= df1.groupby(['Sex','Thalassemia_types'])['Heart_attack'].count().reset_index().sort_values(by='Heart_attack',ascending=False)\n",
    "s.head(10).style.background_gradient(cmap='Greys')"
   ]
  },
  {
   "cell_type": "markdown",
   "metadata": {},
   "source": [
    "The higher the Thalassemia type, the higher were the cases of heart attack."
   ]
  },
  {
   "cell_type": "code",
   "execution_count": 21,
   "metadata": {},
   "outputs": [
    {
     "data": {
      "text/plain": [
       "<AxesSubplot:>"
      ]
     },
     "execution_count": 21,
     "metadata": {},
     "output_type": "execute_result"
    },
    {
     "data": {
      "image/png": "[encoded data removed]",
      "text/plain": [
       "<Figure size 720x360 with 2 Axes>"
      ]
     },
     "metadata": {
      "needs_background": "light"
     },
     "output_type": "display_data"
    }
   ],
   "source": [
    "df2.drop(['Sex','Fasting_blood_sugar','Heart_attack','Chest_pain','ECG_results','Exercise_induced_angina','ST_slope','ST_depression','Major_vessels','Thalassemia_types'],axis = 'columns',inplace = True)\n",
    "plt.figure(figsize=(10,5))\n",
    "sns.heatmap(df2.corr(), annot=True, linewidth=0.5, cmap='coolwarm')"
   ]
  },
  {
   "cell_type": "markdown",
   "metadata": {},
   "source": [
    "<h1><font color='turquoise'><strong></strong></font></h1>"
   ]
  },
  {
   "cell_type": "markdown",
   "metadata": {},
   "source": [
    "Model Selection and Training"
   ]
  },
  {
   "cell_type": "code",
   "execution_count": 5,
   "metadata": {},
   "outputs": [],
   "source": [
    "#Libraries for model selection\n",
    "from sklearn.linear_model import LogisticRegression\n",
    "from sklearn.svm import LinearSVC\n",
    "from sklearn.naive_bayes import GaussianNB\n",
    "from sklearn.naive_bayes import MultinomialNB\n",
    "from sklearn.tree import DecisionTreeClassifier\n",
    "from sklearn.ensemble import RandomForestClassifier\n",
    "from sklearn.ensemble import GradientBoostingClassifier\n",
    "from sklearn.neighbors import KNeighborsClassifier\n",
    "\n",
    "#Libraries for various model parameter selection.\n",
    "from sklearn.model_selection import train_test_split\n",
    "from sklearn.model_selection import GridSearchCV\n",
    "from sklearn.preprocessing import MinMaxScaler\n",
    "from sklearn.preprocessing import StandardScaler\n",
    "from pandas import DataFrame\n",
    "from sklearn.metrics import accuracy_score,confusion_matrix\n",
    "import scikitplot as skplt\n",
    "from sklearn import metrics"
   ]
  },
  {
   "cell_type": "code",
   "execution_count": 5,
   "metadata": {},
   "outputs": [],
   "source": [
    "x = df.drop(['target'], axis = 1)\n",
    "y = df['target']"
   ]
  },
  {
   "cell_type": "code",
   "execution_count": 8,
   "metadata": {},
   "outputs": [],
   "source": [
    "x_train, x_test, y_train, y_test = train_test_split(x,y,test_size = 0.20, random_state = 5)"
   ]
  },
  {
   "cell_type": "code",
   "execution_count": 9,
   "metadata": {},
   "outputs": [],
   "source": [
    "feature_scaler = MinMaxScaler()\n",
    "x_train = feature_scaler.fit_transform(x_train)\n",
    "x_test = feature_scaler.transform(x_test)"
   ]
  },
  {
   "cell_type": "code",
   "execution_count": 10,
   "metadata": {},
   "outputs": [],
   "source": [
    "accuracy = []"
   ]
  },
  {
   "cell_type": "markdown",
   "metadata": {},
   "source": [
    "LOGISTIC REGRESSION"
   ]
  },
  {
   "cell_type": "code",
   "execution_count": 11,
   "metadata": {},
   "outputs": [
    {
     "data": {
      "text/plain": [
       "{'C': 0.1}"
      ]
     },
     "execution_count": 11,
     "metadata": {},
     "output_type": "execute_result"
    }
   ],
   "source": [
    "C = [0.01,0.1, 1, 5, 10]\n",
    "\n",
    "Log = LogisticRegression()\n",
    "\n",
    "parameters = {'C': [.1 ,2, 5, 10, 15, 20]}\n",
    "\n",
    "log_regressor = GridSearchCV(Log, parameters, scoring='neg_mean_squared_error' ,cv =5)\n",
    "log_regressor.fit(x_train, y_train)\n",
    "log_regressor.best_params_"
   ]
  },
  {
   "cell_type": "code",
   "execution_count": 76,
   "metadata": {},
   "outputs": [
    {
     "name": "stdout",
     "output_type": "stream",
     "text": [
      "Logistic Regression Accuracy --> 88.52459016393442\n"
     ]
    }
   ],
   "source": [
    "model1 = LogisticRegression(C=15)\n",
    "model1.fit(x_train,y_train)\n",
    "accuracy1 = model1.score(x_test,y_test)\n",
    "accuracy.append(accuracy1)\n",
    "print('Logistic Regression Accuracy -->',((accuracy1)*100))"
   ]
  },
  {
   "cell_type": "markdown",
   "metadata": {},
   "source": [
    "RANDOM FOREST CLASSIFIER"
   ]
  },
  {
   "cell_type": "code",
   "execution_count": 13,
   "metadata": {},
   "outputs": [
    {
     "data": {
      "text/plain": [
       "{'criterion': 'entropy', 'max_features': 'sqrt', 'n_estimators': 250}"
      ]
     },
     "execution_count": 13,
     "metadata": {},
     "output_type": "execute_result"
    }
   ],
   "source": [
    "n_estimators = [250,500,750,1000]\n",
    "criterion = ['gini','entropy']\n",
    "max_features = ['auto','sqrt','log2']\n",
    "random_state = [5]\n",
    "\n",
    "RF = RandomForestClassifier()\n",
    "\n",
    "parameters = {'n_estimators': [250,500,750,1000],'criterion': ['gini','entropy'],'max_features':['auto','sqrt','log2']}\n",
    "\n",
    "RFClassifier = GridSearchCV(RF, parameters, scoring='neg_mean_squared_error' ,cv =5)\n",
    "RFClassifier.fit(x_train, y_train)\n",
    "RFClassifier.best_params_"
   ]
  },
  {
   "cell_type": "code",
   "execution_count": 67,
   "metadata": {},
   "outputs": [
    {
     "name": "stdout",
     "output_type": "stream",
     "text": [
      "Random Forest Classifier Accuracy --> 90.1639344262295\n"
     ]
    }
   ],
   "source": [
    "model6 = RandomForestClassifier(criterion = 'gini',max_features = 'log2',n_estimators = 250, random_state = 5)\n",
    "model6.fit(x_train,y_train)\n",
    "accuracy6 = model6.score(x_test,y_test)\n",
    "accuracy.append(accuracy6)\n",
    "print('Random Forest Classifier Accuracy -->',((accuracy6)*100))"
   ]
  },
  {
   "cell_type": "markdown",
   "metadata": {},
   "source": [
    "K-NEAREST NEIGHBOR"
   ]
  },
  {
   "cell_type": "code",
   "execution_count": 31,
   "metadata": {},
   "outputs": [
    {
     "name": "stdout",
     "output_type": "stream",
     "text": [
      "KNN Accuracy --> 80.32786885245902\n"
     ]
    }
   ],
   "source": [
    "model8 = KNeighborsClassifier(n_neighbors = 5)\n",
    "model8.fit(x_train,y_train)\n",
    "accuracy8 = model8.score(x_test,y_test)\n",
    "accuracy.append(accuracy8)\n",
    "print('KNN Accuracy -->',((accuracy8)*100))"
   ]
  },
  {
   "cell_type": "markdown",
   "metadata": {},
   "source": [
    "SUPPORT VECTOR MACHINE"
   ]
  },
  {
   "cell_type": "code",
   "execution_count": 68,
   "metadata": {},
   "outputs": [
    {
     "data": {
      "text/plain": [
       "{'C': 0.1, 'loss': 'hinge', 'penalty': 'l2'}"
      ]
     },
     "execution_count": 68,
     "metadata": {},
     "output_type": "execute_result"
    }
   ],
   "source": [
    "penalty = ['l1','l2']\n",
    "C = [0.01,0.1,1,5,10,15,20]\n",
    "loss = ['hinge','squared_hinge']\n",
    "\n",
    "SVM = LinearSVC()\n",
    "\n",
    "parameters = {'penalty':['l1','l2'],'C': [.01,.1,1,5,10,15,20],'loss':['hinge','squared_hinge']}\n",
    "\n",
    "SVM_classifier = GridSearchCV(SVM, parameters, scoring='neg_mean_squared_error' ,cv =5)\n",
    "SVM_classifier.fit(x_train, y_train)\n",
    "SVM_classifier.best_params_"
   ]
  },
  {
   "cell_type": "code",
   "execution_count": 70,
   "metadata": {},
   "outputs": [
    {
     "name": "stdout",
     "output_type": "stream",
     "text": [
      "SVM Classifier Accuracy --> 86.88524590163934\n"
     ]
    }
   ],
   "source": [
    "model3 = LinearSVC(C = 0.1,loss = 'hinge',penalty = 'l2')\n",
    "model3.fit(x_train,y_train)\n",
    "accuracy3 = model3.score(x_test,y_test)\n",
    "accuracy.append(accuracy3)\n",
    "print('SVM Classifier Accuracy -->',((accuracy3)*100))"
   ]
  },
  {
   "cell_type": "markdown",
   "metadata": {},
   "source": [
    "DECISION TREE CLASSIFIER"
   ]
  },
  {
   "cell_type": "code",
   "execution_count": 71,
   "metadata": {},
   "outputs": [
    {
     "data": {
      "text/plain": [
       "{'criterion': 'entropy'}"
      ]
     },
     "execution_count": 71,
     "metadata": {},
     "output_type": "execute_result"
    }
   ],
   "source": [
    "criterion = ['gini','entropy']\n",
    "splitter = ['best','random']\n",
    "\n",
    "Tree = DecisionTreeClassifier()\n",
    "\n",
    "parameters = {'criterion': ['gini','entropy']}\n",
    "\n",
    "tree_classifier = GridSearchCV(Tree, parameters, scoring='neg_mean_squared_error' ,cv =5)\n",
    "tree_classifier.fit(x_train, y_train)\n",
    "tree_classifier.best_params_"
   ]
  },
  {
   "cell_type": "code",
   "execution_count": 74,
   "metadata": {},
   "outputs": [
    {
     "name": "stdout",
     "output_type": "stream",
     "text": [
      "Decision Tree Accuracy --> 86.88524590163934\n"
     ]
    }
   ],
   "source": [
    "model2 = DecisionTreeClassifier(criterion = 'entropy')\n",
    "model2.fit(x_train,y_train)\n",
    "accuracy2 = model2.score(x_test,y_test)\n",
    "accuracy.append(accuracy2)\n",
    "print('Decision Tree Accuracy -->',((accuracy2)*100))"
   ]
  },
  {
   "cell_type": "markdown",
   "metadata": {},
   "source": [
    "PRINTING THE ACCURACIES OF ALL ALGORITHMS"
   ]
  },
  {
   "cell_type": "code",
   "execution_count": 77,
   "metadata": {},
   "outputs": [
    {
     "data": {
      "text/html": [
       "<div>\n",
       "<style scoped>\n",
       "    .dataframe tbody tr th:only-of-type {\n",
       "        vertical-align: middle;\n",
       "    }\n",
       "\n",
       "    .dataframe tbody tr th {\n",
       "        vertical-align: top;\n",
       "    }\n",
       "\n",
       "    .dataframe thead th {\n",
       "        text-align: right;\n",
       "    }\n",
       "</style>\n",
       "<table border=\"1\" class=\"dataframe\">\n",
       "  <thead>\n",
       "    <tr style=\"text-align: right;\">\n",
       "      <th></th>\n",
       "      <th>Model</th>\n",
       "      <th>Accuracy</th>\n",
       "    </tr>\n",
       "  </thead>\n",
       "  <tbody>\n",
       "    <tr>\n",
       "      <th>3</th>\n",
       "      <td>Random Forest Classifier</td>\n",
       "      <td>0.901639</td>\n",
       "    </tr>\n",
       "    <tr>\n",
       "      <th>0</th>\n",
       "      <td>Logistic Regression</td>\n",
       "      <td>0.885246</td>\n",
       "    </tr>\n",
       "    <tr>\n",
       "      <th>1</th>\n",
       "      <td>Decision Tree</td>\n",
       "      <td>0.868852</td>\n",
       "    </tr>\n",
       "    <tr>\n",
       "      <th>2</th>\n",
       "      <td>SVM</td>\n",
       "      <td>0.868852</td>\n",
       "    </tr>\n",
       "    <tr>\n",
       "      <th>4</th>\n",
       "      <td>K-Nearest</td>\n",
       "      <td>0.819672</td>\n",
       "    </tr>\n",
       "  </tbody>\n",
       "</table>\n",
       "</div>"
      ],
      "text/plain": [
       "                      Model  Accuracy\n",
       "3  Random Forest Classifier  0.901639\n",
       "0       Logistic Regression  0.885246\n",
       "1             Decision Tree  0.868852\n",
       "2                       SVM  0.868852\n",
       "4                 K-Nearest  0.819672"
      ]
     },
     "execution_count": 77,
     "metadata": {},
     "output_type": "execute_result"
    }
   ],
   "source": [
    "data = [['Logistic Regression',accuracy1],['Decision Tree',accuracy2],['SVM',accuracy3],['Random Forest Classifier',accuracy6],['K-Nearest',accuracy8]]\n",
    "dataframe = pd.DataFrame(data,columns=['Model','Accuracy'])\n",
    "dataframe = dataframe.sort_values(by='Accuracy',ascending=False)\n",
    "dataframe"
   ]
  },
  {
   "cell_type": "markdown",
   "metadata": {},
   "source": [
    "DROPPING SOME ATTRIBUTES TO CHECK ACCURACY IN PREDICTION"
   ]
  },
  {
   "cell_type": "code",
   "execution_count": 6,
   "metadata": {},
   "outputs": [
    {
     "data": {
      "text/html": [
       "<div>\n",
       "<style scoped>\n",
       "    .dataframe tbody tr th:only-of-type {\n",
       "        vertical-align: middle;\n",
       "    }\n",
       "\n",
       "    .dataframe tbody tr th {\n",
       "        vertical-align: top;\n",
       "    }\n",
       "\n",
       "    .dataframe thead th {\n",
       "        text-align: right;\n",
       "    }\n",
       "</style>\n",
       "<table border=\"1\" class=\"dataframe\">\n",
       "  <thead>\n",
       "    <tr style=\"text-align: right;\">\n",
       "      <th></th>\n",
       "      <th>sex</th>\n",
       "      <th>cp</th>\n",
       "      <th>fbs</th>\n",
       "      <th>exang</th>\n",
       "      <th>oldpeak</th>\n",
       "      <th>slope</th>\n",
       "      <th>ca</th>\n",
       "      <th>thal</th>\n",
       "    </tr>\n",
       "  </thead>\n",
       "  <tbody>\n",
       "    <tr>\n",
       "      <th>0</th>\n",
       "      <td>1</td>\n",
       "      <td>3</td>\n",
       "      <td>1</td>\n",
       "      <td>0</td>\n",
       "      <td>2.3</td>\n",
       "      <td>0</td>\n",
       "      <td>0</td>\n",
       "      <td>1</td>\n",
       "    </tr>\n",
       "    <tr>\n",
       "      <th>1</th>\n",
       "      <td>1</td>\n",
       "      <td>2</td>\n",
       "      <td>0</td>\n",
       "      <td>0</td>\n",
       "      <td>3.5</td>\n",
       "      <td>0</td>\n",
       "      <td>0</td>\n",
       "      <td>2</td>\n",
       "    </tr>\n",
       "    <tr>\n",
       "      <th>2</th>\n",
       "      <td>0</td>\n",
       "      <td>1</td>\n",
       "      <td>0</td>\n",
       "      <td>0</td>\n",
       "      <td>1.4</td>\n",
       "      <td>2</td>\n",
       "      <td>0</td>\n",
       "      <td>2</td>\n",
       "    </tr>\n",
       "    <tr>\n",
       "      <th>3</th>\n",
       "      <td>1</td>\n",
       "      <td>1</td>\n",
       "      <td>0</td>\n",
       "      <td>0</td>\n",
       "      <td>0.8</td>\n",
       "      <td>2</td>\n",
       "      <td>0</td>\n",
       "      <td>2</td>\n",
       "    </tr>\n",
       "    <tr>\n",
       "      <th>4</th>\n",
       "      <td>0</td>\n",
       "      <td>0</td>\n",
       "      <td>0</td>\n",
       "      <td>1</td>\n",
       "      <td>0.6</td>\n",
       "      <td>2</td>\n",
       "      <td>0</td>\n",
       "      <td>2</td>\n",
       "    </tr>\n",
       "  </tbody>\n",
       "</table>\n",
       "</div>"
      ],
      "text/plain": [
       "   sex  cp  fbs  exang  oldpeak  slope  ca  thal\n",
       "0    1   3    1      0      2.3      0   0     1\n",
       "1    1   2    0      0      3.5      0   0     2\n",
       "2    0   1    0      0      1.4      2   0     2\n",
       "3    1   1    0      0      0.8      2   0     2\n",
       "4    0   0    0      1      0.6      2   0     2"
      ]
     },
     "execution_count": 6,
     "metadata": {},
     "output_type": "execute_result"
    }
   ],
   "source": [
    "y = df['target']\n",
    "modified_df=df.drop(['target'], axis = 1)\n",
    "modified_df=modified_df.drop(['age'],axis=1)\n",
    "modified_df=modified_df.drop(['trestbps'],axis=1)\n",
    "modified_df=modified_df.drop(['chol'],axis=1)\n",
    "modified_df=modified_df.drop(['restecg'],axis=1)\n",
    "modified_df=modified_df.drop(['thalach'],axis=1)\n",
    "mx=modified_df\n",
    "mx.head()"
   ]
  },
  {
   "cell_type": "code",
   "execution_count": 7,
   "metadata": {},
   "outputs": [],
   "source": [
    "mx_train, mx_test, y_train, y_test = train_test_split(mx,y,test_size = 0.20, random_state = 5)"
   ]
  },
  {
   "cell_type": "code",
   "execution_count": 8,
   "metadata": {},
   "outputs": [],
   "source": [
    "feature_scaler = MinMaxScaler()\n",
    "mx_train = feature_scaler.fit_transform(mx_train)\n",
    "mx_test = feature_scaler.transform(mx_test)"
   ]
  },
  {
   "cell_type": "markdown",
   "metadata": {},
   "source": [
    "Scaled the data for better result."
   ]
  },
  {
   "cell_type": "code",
   "execution_count": 11,
   "metadata": {},
   "outputs": [],
   "source": [
    "accuracy = []"
   ]
  },
  {
   "cell_type": "markdown",
   "metadata": {},
   "source": [
    "List which will store the accuracy value for all models used."
   ]
  },
  {
   "cell_type": "markdown",
   "metadata": {},
   "source": [
    "# Logistic Regression"
   ]
  },
  {
   "cell_type": "code",
   "execution_count": 36,
   "metadata": {},
   "outputs": [
    {
     "data": {
      "text/plain": [
       "{'C': 2}"
      ]
     },
     "execution_count": 36,
     "metadata": {},
     "output_type": "execute_result"
    }
   ],
   "source": [
    "C = [0.01,0.1, 1, 5, 10]\n",
    "\n",
    "Log = LogisticRegression()\n",
    "\n",
    "parameters = {'C': [.1 ,2, 5, 10, 15, 20]}\n",
    "\n",
    "log_regressor = GridSearchCV(Log, parameters, scoring='neg_mean_squared_error' ,cv =5)\n",
    "log_regressor.fit(mx_train, y_train)\n",
    "log_regressor.best_params_"
   ]
  },
  {
   "cell_type": "code",
   "execution_count": 38,
   "metadata": {},
   "outputs": [
    {
     "name": "stdout",
     "output_type": "stream",
     "text": [
      "Logistic Regression Accuracy --> 86.88524590163934\n"
     ]
    }
   ],
   "source": [
    "model1 = LogisticRegression(C=15)\n",
    "model1.fit(mx_train,y_train)\n",
    "accuracy1 = model1.score(mx_test,y_test)\n",
    "accuracy.append(accuracy1)\n",
    "print('Logistic Regression Accuracy -->',((accuracy1)*100))"
   ]
  },
  {
   "cell_type": "code",
   "execution_count": 39,
   "metadata": {},
   "outputs": [
    {
     "data": {
      "text/plain": [
       "<AxesSubplot:title={'center':'Confusion Matrix'}, xlabel='Predicted label', ylabel='True label'>"
      ]
     },
     "execution_count": 39,
     "metadata": {},
     "output_type": "execute_result"
    },
    {
     "data": {
      "image/png": "[encoded data removed]",
      "text/plain": [
       "<Figure size 720x360 with 2 Axes>"
      ]
     },
     "metadata": {
      "needs_background": "light"
     },
     "output_type": "display_data"
    }
   ],
   "source": [
    "pred1 = model1.predict(mx_test)\n",
    "matrix1 = (y_test,pred1)\n",
    "skplt.metrics.plot_confusion_matrix(y_test, pred1,figsize=(10,5))"
   ]
  },
  {
   "cell_type": "markdown",
   "metadata": {},
   "source": [
    "This shows there were problem in only 8 values, otherwise all the values were predicted right."
   ]
  },
  {
   "cell_type": "markdown",
   "metadata": {},
   "source": [
    "# Decision Trees"
   ]
  },
  {
   "cell_type": "code",
   "execution_count": 40,
   "metadata": {},
   "outputs": [
    {
     "data": {
      "text/plain": [
       "{'criterion': 'entropy'}"
      ]
     },
     "execution_count": 40,
     "metadata": {},
     "output_type": "execute_result"
    }
   ],
   "source": [
    "criterion = ['gini','entropy']\n",
    "splitter = ['best','random']\n",
    "\n",
    "Tree = DecisionTreeClassifier()\n",
    "\n",
    "parameters = {'criterion': ['gini','entropy']}\n",
    "\n",
    "tree_classifier = GridSearchCV(Tree, parameters, scoring='neg_mean_squared_error' ,cv =5)\n",
    "tree_classifier.fit(mx_train, y_train)\n",
    "tree_classifier.best_params_"
   ]
  },
  {
   "cell_type": "code",
   "execution_count": 41,
   "metadata": {},
   "outputs": [
    {
     "name": "stdout",
     "output_type": "stream",
     "text": [
      "Decision Tree Accuracy --> 86.88524590163934\n"
     ]
    }
   ],
   "source": [
    "model2 = DecisionTreeClassifier(criterion = 'gini')\n",
    "model2.fit(mx_train,y_train)\n",
    "accuracy2 = model2.score(mx_test,y_test)\n",
    "accuracy.append(accuracy2)\n",
    "print('Decision Tree Accuracy -->',((accuracy2)*100))"
   ]
  },
  {
   "cell_type": "code",
   "execution_count": 42,
   "metadata": {},
   "outputs": [
    {
     "data": {
      "text/plain": [
       "<AxesSubplot:title={'center':'Confusion Matrix'}, xlabel='Predicted label', ylabel='True label'>"
      ]
     },
     "execution_count": 42,
     "metadata": {},
     "output_type": "execute_result"
    },
    {
     "data": {
      "image/png": "[encoded data removed]",
      "text/plain": [
       "<Figure size 720x360 with 2 Axes>"
      ]
     },
     "metadata": {
      "needs_background": "light"
     },
     "output_type": "display_data"
    }
   ],
   "source": [
    "pred2 = model2.predict(mx_test)\n",
    "matrix2 = (y_test,pred2)\n",
    "skplt.metrics.plot_confusion_matrix(y_test ,pred2 ,figsize=(10,5))"
   ]
  },
  {
   "cell_type": "markdown",
   "metadata": {},
   "source": [
    "This shows there were problem in 8 values, otherwise all the values were predicted right."
   ]
  },
  {
   "cell_type": "markdown",
   "metadata": {},
   "source": [
    "# Support Vector Machine"
   ]
  },
  {
   "cell_type": "code",
   "execution_count": 45,
   "metadata": {},
   "outputs": [
    {
     "data": {
      "text/plain": [
       "{'C': 20, 'loss': 'hinge', 'penalty': 'l2'}"
      ]
     },
     "execution_count": 45,
     "metadata": {},
     "output_type": "execute_result"
    }
   ],
   "source": [
    "penalty = ['l1','l2']\n",
    "C = [0.01,0.1,1,5,10,15,20]\n",
    "loss = ['hinge','squared_hinge']\n",
    "\n",
    "SVM = LinearSVC()\n",
    "\n",
    "parameters = {'penalty':['l1','l2'],'C': [.01,.1,1,5,10,15,20],'loss':['hinge','squared_hinge']}\n",
    "\n",
    "SVM_classifier = GridSearchCV(SVM, parameters, scoring='neg_mean_squared_error' ,cv =5)\n",
    "SVM_classifier.fit(mx_train, y_train)\n",
    "SVM_classifier.best_params_"
   ]
  },
  {
   "cell_type": "code",
   "execution_count": 46,
   "metadata": {},
   "outputs": [
    {
     "name": "stdout",
     "output_type": "stream",
     "text": [
      "SVM Classifier Accuracy --> 86.88524590163934\n"
     ]
    }
   ],
   "source": [
    "model3 = LinearSVC(C = 20,loss = 'hinge',penalty = 'l2')\n",
    "model3.fit(mx_train,y_train)\n",
    "accuracy3 = model3.score(mx_test,y_test)\n",
    "accuracy.append(accuracy3)\n",
    "print('SVM Classifier Accuracy -->',((accuracy3)*100))"
   ]
  },
  {
   "cell_type": "code",
   "execution_count": 52,
   "metadata": {},
   "outputs": [
    {
     "data": {
      "text/plain": [
       "<AxesSubplot:title={'center':'Confusion Matrix'}, xlabel='Predicted label', ylabel='True label'>"
      ]
     },
     "execution_count": 52,
     "metadata": {},
     "output_type": "execute_result"
    },
    {
     "data": {
      "image/png": "[encoded data removed]",
      "text/plain": [
       "<Figure size 720x360 with 2 Axes>"
      ]
     },
     "metadata": {
      "needs_background": "light"
     },
     "output_type": "display_data"
    }
   ],
   "source": [
    "pred3 = model3.predict(mx_test)\n",
    "matrix3 = (y_test,pred3)\n",
    "skplt.metrics.plot_confusion_matrix(y_test ,pred3 ,figsize=(10,5))"
   ]
  },
  {
   "cell_type": "markdown",
   "metadata": {},
   "source": [
    "This shows there were problem in 8 values, otherwise all the values were predicted right."
   ]
  },
  {
   "cell_type": "markdown",
   "metadata": {},
   "source": [
    "# Gaussian Naive Bayes"
   ]
  },
  {
   "cell_type": "code",
   "execution_count": 51,
   "metadata": {},
   "outputs": [
    {
     "name": "stdout",
     "output_type": "stream",
     "text": [
      "Gaussian NB Accuracy --> 85.24590163934425\n"
     ]
    }
   ],
   "source": [
    "model4 = GaussianNB()\n",
    "\n",
    "model4.fit(mx_train, y_train)\n",
    "accuracy4 = model4.score(mx_test,y_test)\n",
    "accuracy.append(accuracy4)\n",
    "print('Gaussian NB Accuracy -->',((accuracy4)*100))"
   ]
  },
  {
   "cell_type": "code",
   "execution_count": 52,
   "metadata": {},
   "outputs": [
    {
     "data": {
      "text/plain": [
       "<AxesSubplot:title={'center':'Confusion Matrix'}, xlabel='Predicted label', ylabel='True label'>"
      ]
     },
     "execution_count": 52,
     "metadata": {},
     "output_type": "execute_result"
    },
    {
     "data": {
      "image/png": "[encoded data removed]",
      "text/plain": [
       "<Figure size 720x360 with 2 Axes>"
      ]
     },
     "metadata": {
      "needs_background": "light"
     },
     "output_type": "display_data"
    }
   ],
   "source": [
    "pred4 = model4.predict(mx_test)\n",
    "matrix4 = (y_test,pred4)\n",
    "skplt.metrics.plot_confusion_matrix(y_test ,pred4 ,figsize=(10,5))"
   ]
  },
  {
   "cell_type": "markdown",
   "metadata": {},
   "source": [
    "This shows there were problem in 9 values, otherwise all the values were predicted right."
   ]
  },
  {
   "cell_type": "markdown",
   "metadata": {},
   "source": [
    "# Multinomial Naive Bayes"
   ]
  },
  {
   "cell_type": "code",
   "execution_count": 53,
   "metadata": {},
   "outputs": [
    {
     "name": "stdout",
     "output_type": "stream",
     "text": [
      "Multinomial NB Accuracy --> 83.60655737704919\n"
     ]
    }
   ],
   "source": [
    "model5 = MultinomialNB()\n",
    "\n",
    "model5.fit(mx_train, y_train)\n",
    "accuracy5 = model5.score(mx_test,y_test)\n",
    "accuracy.append(accuracy5)\n",
    "print('Multinomial NB Accuracy -->',((accuracy5)*100))"
   ]
  },
  {
   "cell_type": "code",
   "execution_count": 54,
   "metadata": {},
   "outputs": [
    {
     "data": {
      "text/plain": [
       "<AxesSubplot:title={'center':'Confusion Matrix'}, xlabel='Predicted label', ylabel='True label'>"
      ]
     },
     "execution_count": 54,
     "metadata": {},
     "output_type": "execute_result"
    },
    {
     "data": {
      "image/png": "[encoded data removed]",
      "text/plain": [
       "<Figure size 720x360 with 2 Axes>"
      ]
     },
     "metadata": {
      "needs_background": "light"
     },
     "output_type": "display_data"
    }
   ],
   "source": [
    "pred5 = model5.predict(mx_test)\n",
    "matrix5 = (y_test,pred5)\n",
    "skplt.metrics.plot_confusion_matrix(y_test ,pred5 ,figsize=(10,5))"
   ]
  },
  {
   "cell_type": "markdown",
   "metadata": {},
   "source": [
    "This shows there were problem in only 10 values, otherwise all the values were predicted right."
   ]
  },
  {
   "cell_type": "markdown",
   "metadata": {},
   "source": [
    "# Random Forest Classifier"
   ]
  },
  {
   "cell_type": "code",
   "execution_count": 9,
   "metadata": {},
   "outputs": [
    {
     "data": {
      "text/plain": [
       "{'criterion': 'entropy', 'max_features': 'auto', 'n_estimators': 250}"
      ]
     },
     "execution_count": 9,
     "metadata": {},
     "output_type": "execute_result"
    }
   ],
   "source": [
    "n_estimators = [250,500,750,1000]\n",
    "criterion = ['gini','entropy']\n",
    "max_features = ['auto','sqrt','log2']\n",
    "random_state = [5]\n",
    "\n",
    "RF = RandomForestClassifier()\n",
    "\n",
    "parameters = {'n_estimators': [250,500,750,1000],'criterion': ['gini','entropy'],'max_features':['auto','sqrt','log2']}\n",
    "\n",
    "RFClassifier = GridSearchCV(RF, parameters, scoring='neg_mean_squared_error' ,cv =5)\n",
    "RFClassifier.fit(mx_train, y_train)\n",
    "RFClassifier.best_params_"
   ]
  },
  {
   "cell_type": "code",
   "execution_count": 12,
   "metadata": {},
   "outputs": [
    {
     "name": "stdout",
     "output_type": "stream",
     "text": [
      "Random Forest Classifier Accuracy --> 88.52459016393442\n"
     ]
    }
   ],
   "source": [
    "model6 = RandomForestClassifier(criterion = 'entropy',max_features = 'auto',n_estimators = 250, random_state = 5)\n",
    "model6.fit(mx_train,y_train)\n",
    "accuracy6 = model6.score(mx_test,y_test)\n",
    "accuracy.append(accuracy6)\n",
    "print('Random Forest Classifier Accuracy -->',((accuracy6)*100))"
   ]
  },
  {
   "cell_type": "code",
   "execution_count": 74,
   "metadata": {},
   "outputs": [
    {
     "data": {
      "text/plain": [
       "<AxesSubplot:title={'center':'Confusion Matrix'}, xlabel='Predicted label', ylabel='True label'>"
      ]
     },
     "execution_count": 74,
     "metadata": {},
     "output_type": "execute_result"
    },
    {
     "data": {
      "image/png": "[encoded data removed]",
      "text/plain": [
       "<Figure size 720x360 with 2 Axes>"
      ]
     },
     "metadata": {
      "needs_background": "light"
     },
     "output_type": "display_data"
    }
   ],
   "source": [
    "pred6 = model6.predict(mx_test)\n",
    "matrix6 = (y_test,pred6)\n",
    "skplt.metrics.plot_confusion_matrix(y_test ,pred6 ,figsize=(10,5))"
   ]
  },
  {
   "cell_type": "markdown",
   "metadata": {},
   "source": [
    "This shows there were problem in only 6 values, otherwise all the values were predicted right."
   ]
  },
  {
   "cell_type": "markdown",
   "metadata": {},
   "source": [
    "# Gradient Boosting Classifier\n"
   ]
  },
  {
   "cell_type": "code",
   "execution_count": 55,
   "metadata": {},
   "outputs": [
    {
     "data": {
      "text/plain": [
       "{'loss': 'deviance', 'max_features': 'log2', 'n_estimators': 500}"
      ]
     },
     "execution_count": 55,
     "metadata": {},
     "output_type": "execute_result"
    }
   ],
   "source": [
    "n_estimators = [250,500,750,1000]\n",
    "loss = ['deviance','exponential']\n",
    "max_features = ['auto','sqrt','log2']\n",
    "\n",
    "GB = GradientBoostingClassifier()\n",
    "\n",
    "parameters = {'n_estimators': [250,500,750,1000],'loss': ['deviance','exponential'],'max_features':['auto','sqrt','log2']}\n",
    "\n",
    "GBClassifier = GridSearchCV(GB, parameters, scoring='neg_mean_squared_error' ,cv =5)\n",
    "GBClassifier.fit(mx_train, y_train)\n",
    "GBClassifier.best_params_"
   ]
  },
  {
   "cell_type": "code",
   "execution_count": 57,
   "metadata": {},
   "outputs": [
    {
     "name": "stdout",
     "output_type": "stream",
     "text": [
      "Gradient Boosting Classifier Accuracy --> 85.24590163934425\n"
     ]
    }
   ],
   "source": [
    "model7 = GradientBoostingClassifier(loss = 'deviance',max_features = 'log2',n_estimators = 500, random_state = 5)\n",
    "model7.fit(mx_train,y_train)\n",
    "accuracy7 = model7.score(mx_test,y_test)\n",
    "accuracy.append(accuracy7)\n",
    "print('Gradient Boosting Classifier Accuracy -->',((accuracy7)*100))"
   ]
  },
  {
   "cell_type": "code",
   "execution_count": 58,
   "metadata": {},
   "outputs": [
    {
     "data": {
      "text/plain": [
       "<AxesSubplot:title={'center':'Confusion Matrix'}, xlabel='Predicted label', ylabel='True label'>"
      ]
     },
     "execution_count": 58,
     "metadata": {},
     "output_type": "execute_result"
    },
    {
     "data": {
      "image/png": "[encoded data removed]",
      "text/plain": [
       "<Figure size 720x360 with 2 Axes>"
      ]
     },
     "metadata": {
      "needs_background": "light"
     },
     "output_type": "display_data"
    }
   ],
   "source": [
    "pred7 = model7.predict(mx_test)\n",
    "matrix7 = (y_test,pred7)\n",
    "skplt.metrics.plot_confusion_matrix(y_test ,pred7 ,figsize=(10,5))"
   ]
  },
  {
   "cell_type": "markdown",
   "metadata": {},
   "source": [
    "This shows there were problem in 9 values, otherwise all the values were predicted right."
   ]
  },
  {
   "cell_type": "markdown",
   "metadata": {},
   "source": [
    "# K-Nearest Neighbors"
   ]
  },
  {
   "cell_type": "code",
   "execution_count": 59,
   "metadata": {},
   "outputs": [
    {
     "data": {
      "text/plain": [
       "Text(0, 0.5, 'Accuracy')"
      ]
     },
     "execution_count": 59,
     "metadata": {},
     "output_type": "execute_result"
    },
    {
     "data": {
      "image/png": "[encoded data removed]",
      "text/plain": [
       "<Figure size 432x288 with 1 Axes>"
      ]
     },
     "metadata": {
      "needs_background": "light"
     },
     "output_type": "display_data"
    }
   ],
   "source": [
    "Krange = range(1,20)\n",
    "scores = {}\n",
    "scores_list = []\n",
    "for k in Krange:\n",
    "    knn = KNeighborsClassifier(n_neighbors = k)\n",
    "    knn.fit(mx_train,y_train)\n",
    "    y_pred = knn.predict(mx_test)\n",
    "    scores[k] = metrics.accuracy_score(y_test,y_pred)\n",
    "    scores_list.append(metrics.accuracy_score(y_test,y_pred))\n",
    "    \n",
    "plt.plot(Krange,scores_list)\n",
    "plt.xlabel(\"Value of K\")\n",
    "plt.ylabel(\"Accuracy\")"
   ]
  },
  {
   "cell_type": "code",
   "execution_count": 60,
   "metadata": {},
   "outputs": [
    {
     "name": "stdout",
     "output_type": "stream",
     "text": [
      "KNN Accuracy --> 81.9672131147541\n"
     ]
    }
   ],
   "source": [
    "model8 = KNeighborsClassifier(n_neighbors = 3)\n",
    "model8.fit(mx_train,y_train)\n",
    "accuracy8 = model8.score(mx_test,y_test)\n",
    "accuracy.append(accuracy8)\n",
    "print('KNN Accuracy -->',((accuracy8)*100))"
   ]
  },
  {
   "cell_type": "code",
   "execution_count": 97,
   "metadata": {},
   "outputs": [
    {
     "data": {
      "text/plain": [
       "<AxesSubplot:title={'center':'Confusion Matrix'}, xlabel='Predicted label', ylabel='True label'>"
      ]
     },
     "execution_count": 97,
     "metadata": {},
     "output_type": "execute_result"
    },
    {
     "data": {
      "image/png": "[encoded data removed]",
      "text/plain": [
       "<Figure size 720x360 with 2 Axes>"
      ]
     },
     "metadata": {
      "needs_background": "light"
     },
     "output_type": "display_data"
    }
   ],
   "source": [
    "pred8 = model8.predict(mx_test)\n",
    "matrix8 = (y_test,pred8)\n",
    "skplt.metrics.plot_confusion_matrix(y_test ,pred8 ,figsize=(10,5))"
   ]
  },
  {
   "cell_type": "markdown",
   "metadata": {},
   "source": [
    "This shows there were problem in only 11 values, otherwise all the values were predicted right."
   ]
  },
  {
   "cell_type": "markdown",
   "metadata": {},
   "source": [
    "# Overall accuracies obtained by the models"
   ]
  },
  {
   "cell_type": "code",
   "execution_count": 61,
   "metadata": {},
   "outputs": [
    {
     "data": {
      "text/html": [
       "<div>\n",
       "<style scoped>\n",
       "    .dataframe tbody tr th:only-of-type {\n",
       "        vertical-align: middle;\n",
       "    }\n",
       "\n",
       "    .dataframe tbody tr th {\n",
       "        vertical-align: top;\n",
       "    }\n",
       "\n",
       "    .dataframe thead th {\n",
       "        text-align: right;\n",
       "    }\n",
       "</style>\n",
       "<table border=\"1\" class=\"dataframe\">\n",
       "  <thead>\n",
       "    <tr style=\"text-align: right;\">\n",
       "      <th></th>\n",
       "      <th>Model</th>\n",
       "      <th>Accuracy</th>\n",
       "    </tr>\n",
       "  </thead>\n",
       "  <tbody>\n",
       "    <tr>\n",
       "      <th>5</th>\n",
       "      <td>Random Forest Classifier</td>\n",
       "      <td>0.885246</td>\n",
       "    </tr>\n",
       "    <tr>\n",
       "      <th>0</th>\n",
       "      <td>Logistic Regression</td>\n",
       "      <td>0.868852</td>\n",
       "    </tr>\n",
       "    <tr>\n",
       "      <th>1</th>\n",
       "      <td>Decision Tree</td>\n",
       "      <td>0.868852</td>\n",
       "    </tr>\n",
       "    <tr>\n",
       "      <th>2</th>\n",
       "      <td>SVM</td>\n",
       "      <td>0.868852</td>\n",
       "    </tr>\n",
       "    <tr>\n",
       "      <th>3</th>\n",
       "      <td>Guassian Naive Bayes</td>\n",
       "      <td>0.852459</td>\n",
       "    </tr>\n",
       "    <tr>\n",
       "      <th>4</th>\n",
       "      <td>Multinomial Naive Bayes</td>\n",
       "      <td>0.836066</td>\n",
       "    </tr>\n",
       "    <tr>\n",
       "      <th>6</th>\n",
       "      <td>K-Nearest</td>\n",
       "      <td>0.819672</td>\n",
       "    </tr>\n",
       "  </tbody>\n",
       "</table>\n",
       "</div>"
      ],
      "text/plain": [
       "                      Model  Accuracy\n",
       "5  Random Forest Classifier  0.885246\n",
       "0       Logistic Regression  0.868852\n",
       "1             Decision Tree  0.868852\n",
       "2                       SVM  0.868852\n",
       "3      Guassian Naive Bayes  0.852459\n",
       "4   Multinomial Naive Bayes  0.836066\n",
       "6                 K-Nearest  0.819672"
      ]
     },
     "execution_count": 61,
     "metadata": {},
     "output_type": "execute_result"
    }
   ],
   "source": [
    "data = [['Logistic Regression',accuracy1],['Decision Tree',accuracy2],['SVM',accuracy3],['Guassian Naive Bayes',accuracy4],['Multinomial Naive Bayes',accuracy5],['Random Forest Classifier',accuracy6],['K-Nearest',accuracy8]]\n",
    "dataframe = pd.DataFrame(data,columns=['Model','Accuracy'])\n",
    "dataframe = dataframe.sort_values(by='Accuracy',ascending=False)\n",
    "dataframe"
   ]
  },
  {
   "cell_type": "markdown",
   "metadata": {},
   "source": [
    "FROM ABOVE TABLE WE CAN UNDERSTAND THAT EVEN THOUGH WE DROPPED SOME ATTRIBUTES ACCURACY FOR SOME ALOGORITHMS REMAINS SAME."
   ]
  },
  {
   "cell_type": "markdown",
   "metadata": {},
   "source": [
    "TESTING"
   ]
  },
  {
   "cell_type": "code",
   "execution_count": 122,
   "metadata": {},
   "outputs": [
    {
     "name": "stdout",
     "output_type": "stream",
     "text": [
      "person has Heart disease\n"
     ]
    }
   ],
   "source": [
    "input_data=(0,1,0,0,1.4,2,0,2)\n",
    "id_as_narray=np.asarray(input_data)\n",
    "input_data_reshaped=id_as_narray.reshape(1,-1)\n",
    "prediction=model6.predict(input_data_reshaped)\n",
    "if prediction==0:\n",
    "    print('Person Does not have Heart disease prediction')\n",
    "else:\n",
    "    print('person has Heart disease')"
   ]
  },
  {
   "cell_type": "code",
   "execution_count": 123,
   "metadata": {},
   "outputs": [
    {
     "name": "stdout",
     "output_type": "stream",
     "text": [
      "person has Heart disease\n"
     ]
    }
   ],
   "source": [
    "input_data=(1,3,1,0,2.3,0,0,1)\n",
    "id_as_narray=np.asarray(input_data)\n",
    "input_data_reshaped=id_as_narray.reshape(1,-1)\n",
    "prediction=model6.predict(input_data_reshaped)\n",
    "if prediction==0:\n",
    "    print('Person Does not have Heart disease prediction')\n",
    "else:\n",
    "    print('person has Heart disease')"
   ]
  },
  {
   "cell_type": "code",
   "execution_count": 124,
   "metadata": {},
   "outputs": [
    {
     "name": "stdout",
     "output_type": "stream",
     "text": [
      "person has Heart disease\n"
     ]
    }
   ],
   "source": [
    "input_data=(0,3,1,0,1,2,0,2)\n",
    "id_as_narray=np.asarray(input_data)\n",
    "input_data_reshaped=id_as_narray.reshape(1,-1)\n",
    "prediction=model6.predict(input_data_reshaped)\n",
    "if prediction==0:\n",
    "    print('Person Does not have Heart disease prediction')\n",
    "else:\n",
    "    print('person has Heart disease')"
   ]
  },
  {
   "cell_type": "code",
   "execution_count": 13,
   "metadata": {},
   "outputs": [
    {
     "name": "stdout",
     "output_type": "stream",
     "text": [
      "Person Does not have Heart disease\n"
     ]
    }
   ],
   "source": [
    "input_data=(1,0,0,1,1.5,1,3,2)\n",
    "id_as_narray=np.asarray(input_data)\n",
    "input_data_reshaped=id_as_narray.reshape(1,-1)\n",
    "prediction=model6.predict(input_data_reshaped)\n",
    "if prediction==0:\n",
    "    print('Person Does not have Heart disease')\n",
    "else:\n",
    "    print('person has Heart disease')"
   ]
  },
  {
   "cell_type": "code",
   "execution_count": 17,
   "metadata": {},
   "outputs": [
    {
     "name": "stdout",
     "output_type": "stream",
     "text": [
      "Person Does not have Heart disease\n"
     ]
    }
   ],
   "source": [
    "input_data=(0,1,0,0,2,1,3,2)\n",
    "id_as_narray=np.asarray(input_data)\n",
    "input_data_reshaped=id_as_narray.reshape(1,-1)\n",
    "prediction=model6.predict(input_data_reshaped)\n",
    "if prediction==0:\n",
    "    print('Person Does not have Heart disease')\n",
    "else:\n",
    "    print('person has Heart disease')"
   ]
  },
  {
   "cell_type": "code",
   "execution_count": null,
   "metadata": {},
   "outputs": [],
   "source": []
  }
 ],
 "metadata": {
  "interpreter": {
   "hash": "26de051ba29f2982a8de78e945f0abaf191376122a1563185a90213a26c5da77"
  },
  "kernelspec": {
   "display_name": "Python 3.10.0 64-bit",
   "language": "python",
   "name": "python3"
  },
  "language_info": {
   "codemirror_mode": {
    "name": "ipython",
    "version": 3
   },
   "file_extension": ".py",
   "mimetype": "text/x-python",
   "name": "python",
   "nbconvert_exporter": "python",
   "pygments_lexer": "ipython3",
   "version": "3.10.0"
  }
 },
 "nbformat": 4,
 "nbformat_minor": 4
}
